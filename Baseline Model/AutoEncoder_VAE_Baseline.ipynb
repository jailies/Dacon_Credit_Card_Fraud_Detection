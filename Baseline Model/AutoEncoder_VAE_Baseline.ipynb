{
  "cells": [
    {
      "cell_type": "markdown",
      "metadata": {
        "id": "WsPc0zEgGgbn"
      },
      "source": [
        "## Data_Load & Split"
      ]
    },
    {
      "cell_type": "code",
      "source": [
        "# 구글 드라이브 입력\n",
        "from google.colab import drive\n",
        "drive.mount('/content/gdrive/')"
      ],
      "metadata": {
        "colab": {
          "base_uri": "https://localhost:8080/"
        },
        "id": "elNaHA4VGmFb",
        "outputId": "70cb1c41-74e7-41b4-de02-2de232386130"
      },
      "execution_count": 1,
      "outputs": [
        {
          "output_type": "stream",
          "name": "stdout",
          "text": [
            "Mounted at /content/gdrive/\n"
          ]
        }
      ]
    },
    {
      "cell_type": "code",
      "execution_count": 2,
      "metadata": {
        "id": "xrf89YQbGgbq"
      },
      "outputs": [],
      "source": [
        "import pandas as pd\n",
        "import numpy as np\n",
        "import os\n",
        "import warnings\n",
        "\n",
        "\n",
        "# 파일 위치 고정\n",
        "os.chdir(\"/content/gdrive/MyDrive/신용카드 사기 데이콘\")\n",
        "\n",
        "\n",
        "trn = pd.read_csv('open/train.csv').drop(columns=['ID'])\n",
        "val_ = pd.read_csv('open/val.csv').drop(columns=['ID'])\n",
        "val = val_.iloc[:,:-1]\n",
        "lab = val_.iloc[:,-1]\n",
        "\n",
        "tst = pd.read_csv('open/test.csv')\n",
        "tst_id = tst[['ID']]\n",
        "tst = tst.drop(columns=['ID'])\n",
        "\n",
        "warnings.filterwarnings(action='ignore')\n",
        "\n",
        "from sklearn.preprocessing import StandardScaler\n",
        "std = StandardScaler()\n",
        "trn.iloc[:,:] = std.fit_transform(trn)\n",
        "val.iloc[:,:] = std.fit_transform(val)\n",
        "tst.iloc[:,:] = std.fit_transform(tst)\n",
        "\n",
        "## baseline 참고\n",
        "contamination = 0.0010551491277433877\n",
        "\n",
        "nor = val_[val_['Class']==0]\n",
        "abn = val_[val_['Class']==1]\n",
        "X_trn = nor.iloc[:26000,:-1]\n",
        "X_tst = pd.concat([nor.iloc[26000:,:-1], abn.iloc[:,:-1]])\n",
        "y_tst = pd.concat([nor.iloc[26000:,-1],abn.iloc[:,-1]])"
      ]
    },
    {
      "cell_type": "markdown",
      "metadata": {
        "id": "eqQMCUCtGgbs"
      },
      "source": [
        "## Pyod Anomaly Detection package"
      ]
    },
    {
      "cell_type": "code",
      "execution_count": 3,
      "metadata": {
        "colab": {
          "base_uri": "https://localhost:8080/"
        },
        "id": "kVmpq_zXGgbt",
        "outputId": "3eaa5e17-1d7b-4dc2-85ca-e0831edb4fab"
      },
      "outputs": [
        {
          "output_type": "stream",
          "name": "stdout",
          "text": [
            "Looking in indexes: https://pypi.org/simple, https://us-python.pkg.dev/colab-wheels/public/simple/\n",
            "Collecting pyod\n",
            "  Downloading pyod-1.0.7.tar.gz (147 kB)\n",
            "\u001b[2K     \u001b[90m━━━━━━━━━━━━━━━━━━━━━━━━━━━━━━━━━━━━━━━\u001b[0m \u001b[32m147.7/147.7 KB\u001b[0m \u001b[31m9.5 MB/s\u001b[0m eta \u001b[36m0:00:00\u001b[0m\n",
            "\u001b[?25h  Preparing metadata (setup.py) ... \u001b[?25l\u001b[?25hdone\n",
            "Requirement already satisfied: joblib in /usr/local/lib/python3.8/dist-packages (from pyod) (1.2.0)\n",
            "Requirement already satisfied: matplotlib in /usr/local/lib/python3.8/dist-packages (from pyod) (3.2.2)\n",
            "Requirement already satisfied: numpy>=1.19 in /usr/local/lib/python3.8/dist-packages (from pyod) (1.21.6)\n",
            "Requirement already satisfied: numba>=0.51 in /usr/local/lib/python3.8/dist-packages (from pyod) (0.56.4)\n",
            "Requirement already satisfied: scipy>=1.5.1 in /usr/local/lib/python3.8/dist-packages (from pyod) (1.7.3)\n",
            "Requirement already satisfied: scikit_learn>=0.20.0 in /usr/local/lib/python3.8/dist-packages (from pyod) (1.0.2)\n",
            "Requirement already satisfied: six in /usr/local/lib/python3.8/dist-packages (from pyod) (1.15.0)\n",
            "Requirement already satisfied: statsmodels in /usr/local/lib/python3.8/dist-packages (from pyod) (0.12.2)\n",
            "Requirement already satisfied: setuptools in /usr/local/lib/python3.8/dist-packages (from numba>=0.51->pyod) (57.4.0)\n",
            "Requirement already satisfied: llvmlite<0.40,>=0.39.0dev0 in /usr/local/lib/python3.8/dist-packages (from numba>=0.51->pyod) (0.39.1)\n",
            "Requirement already satisfied: importlib-metadata in /usr/local/lib/python3.8/dist-packages (from numba>=0.51->pyod) (6.0.0)\n",
            "Requirement already satisfied: threadpoolctl>=2.0.0 in /usr/local/lib/python3.8/dist-packages (from scikit_learn>=0.20.0->pyod) (3.1.0)\n",
            "Requirement already satisfied: python-dateutil>=2.1 in /usr/local/lib/python3.8/dist-packages (from matplotlib->pyod) (2.8.2)\n",
            "Requirement already satisfied: pyparsing!=2.0.4,!=2.1.2,!=2.1.6,>=2.0.1 in /usr/local/lib/python3.8/dist-packages (from matplotlib->pyod) (3.0.9)\n",
            "Requirement already satisfied: kiwisolver>=1.0.1 in /usr/local/lib/python3.8/dist-packages (from matplotlib->pyod) (1.4.4)\n",
            "Requirement already satisfied: cycler>=0.10 in /usr/local/lib/python3.8/dist-packages (from matplotlib->pyod) (0.11.0)\n",
            "Requirement already satisfied: patsy>=0.5 in /usr/local/lib/python3.8/dist-packages (from statsmodels->pyod) (0.5.3)\n",
            "Requirement already satisfied: pandas>=0.21 in /usr/local/lib/python3.8/dist-packages (from statsmodels->pyod) (1.3.5)\n",
            "Requirement already satisfied: pytz>=2017.3 in /usr/local/lib/python3.8/dist-packages (from pandas>=0.21->statsmodels->pyod) (2022.7.1)\n",
            "Requirement already satisfied: zipp>=0.5 in /usr/local/lib/python3.8/dist-packages (from importlib-metadata->numba>=0.51->pyod) (3.12.1)\n",
            "Building wheels for collected packages: pyod\n",
            "  Building wheel for pyod (setup.py) ... \u001b[?25l\u001b[?25hdone\n",
            "  Created wheel for pyod: filename=pyod-1.0.7-py3-none-any.whl size=181101 sha256=d18f13603fc184a9121a40e6dbff5b387c6372c9313047e3af108adeb142bab1\n",
            "  Stored in directory: /root/.cache/pip/wheels/f7/e2/c1/1c7fd8b261e72411f6509afb429c84532e40ddcd96074473f4\n",
            "Successfully built pyod\n",
            "Installing collected packages: pyod\n",
            "Successfully installed pyod-1.0.7\n"
          ]
        }
      ],
      "source": [
        "!pip install pyod\n",
        "# git clone https://github.com/yzhao062/pyod.git"
      ]
    },
    {
      "cell_type": "code",
      "source": [
        "! pip install suod"
      ],
      "metadata": {
        "colab": {
          "base_uri": "https://localhost:8080/"
        },
        "id": "CL6KbjmoHcTH",
        "outputId": "f8fa6052-aa33-4ecf-8683-2b8efd4110c3"
      },
      "execution_count": 4,
      "outputs": [
        {
          "output_type": "stream",
          "name": "stdout",
          "text": [
            "Looking in indexes: https://pypi.org/simple, https://us-python.pkg.dev/colab-wheels/public/simple/\n",
            "Collecting suod\n",
            "  Downloading suod-0.0.8.tar.gz (2.1 MB)\n",
            "\u001b[2K     \u001b[90m━━━━━━━━━━━━━━━━━━━━━━━━━━━━━━━━━━━━━━━━\u001b[0m \u001b[32m2.1/2.1 MB\u001b[0m \u001b[31m48.2 MB/s\u001b[0m eta \u001b[36m0:00:00\u001b[0m\n",
            "\u001b[?25h  Preparing metadata (setup.py) ... \u001b[?25l\u001b[?25hdone\n",
            "Collecting combo\n",
            "  Downloading combo-0.1.3.tar.gz (38 kB)\n",
            "  Preparing metadata (setup.py) ... \u001b[?25l\u001b[?25hdone\n",
            "Requirement already satisfied: joblib>=0.14.1 in /usr/local/lib/python3.8/dist-packages (from suod) (1.2.0)\n",
            "Requirement already satisfied: matplotlib in /usr/local/lib/python3.8/dist-packages (from suod) (3.2.2)\n",
            "Requirement already satisfied: numpy>=1.13 in /usr/local/lib/python3.8/dist-packages (from suod) (1.21.6)\n",
            "Requirement already satisfied: scipy>=0.19.1 in /usr/local/lib/python3.8/dist-packages (from suod) (1.7.3)\n",
            "Requirement already satisfied: scikit_learn>=0.19.1 in /usr/local/lib/python3.8/dist-packages (from suod) (1.0.2)\n",
            "Requirement already satisfied: psutil in /usr/local/lib/python3.8/dist-packages (from suod) (5.4.8)\n",
            "Requirement already satisfied: pyod>=0.7.5 in /usr/local/lib/python3.8/dist-packages (from suod) (1.0.7)\n",
            "Requirement already satisfied: six in /usr/local/lib/python3.8/dist-packages (from pyod>=0.7.5->suod) (1.15.0)\n",
            "Requirement already satisfied: numba>=0.51 in /usr/local/lib/python3.8/dist-packages (from pyod>=0.7.5->suod) (0.56.4)\n",
            "Requirement already satisfied: statsmodels in /usr/local/lib/python3.8/dist-packages (from pyod>=0.7.5->suod) (0.12.2)\n",
            "Requirement already satisfied: threadpoolctl>=2.0.0 in /usr/local/lib/python3.8/dist-packages (from scikit_learn>=0.19.1->suod) (3.1.0)\n",
            "Requirement already satisfied: kiwisolver>=1.0.1 in /usr/local/lib/python3.8/dist-packages (from matplotlib->suod) (1.4.4)\n",
            "Requirement already satisfied: cycler>=0.10 in /usr/local/lib/python3.8/dist-packages (from matplotlib->suod) (0.11.0)\n",
            "Requirement already satisfied: pyparsing!=2.0.4,!=2.1.2,!=2.1.6,>=2.0.1 in /usr/local/lib/python3.8/dist-packages (from matplotlib->suod) (3.0.9)\n",
            "Requirement already satisfied: python-dateutil>=2.1 in /usr/local/lib/python3.8/dist-packages (from matplotlib->suod) (2.8.2)\n",
            "Requirement already satisfied: importlib-metadata in /usr/local/lib/python3.8/dist-packages (from numba>=0.51->pyod>=0.7.5->suod) (6.0.0)\n",
            "Requirement already satisfied: setuptools in /usr/local/lib/python3.8/dist-packages (from numba>=0.51->pyod>=0.7.5->suod) (57.4.0)\n",
            "Requirement already satisfied: llvmlite<0.40,>=0.39.0dev0 in /usr/local/lib/python3.8/dist-packages (from numba>=0.51->pyod>=0.7.5->suod) (0.39.1)\n",
            "Requirement already satisfied: patsy>=0.5 in /usr/local/lib/python3.8/dist-packages (from statsmodels->pyod>=0.7.5->suod) (0.5.3)\n",
            "Requirement already satisfied: pandas>=0.21 in /usr/local/lib/python3.8/dist-packages (from statsmodels->pyod>=0.7.5->suod) (1.3.5)\n",
            "Requirement already satisfied: pytz>=2017.3 in /usr/local/lib/python3.8/dist-packages (from pandas>=0.21->statsmodels->pyod>=0.7.5->suod) (2022.7.1)\n",
            "Requirement already satisfied: zipp>=0.5 in /usr/local/lib/python3.8/dist-packages (from importlib-metadata->numba>=0.51->pyod>=0.7.5->suod) (3.12.1)\n",
            "Building wheels for collected packages: suod, combo\n",
            "  Building wheel for suod (setup.py) ... \u001b[?25l\u001b[?25hdone\n",
            "  Created wheel for suod: filename=suod-0.0.8-py3-none-any.whl size=2155017 sha256=24e728ca8abbae172d17dad2e57777993d79ab1ca97237f4ab0245c6dc725b6a\n",
            "  Stored in directory: /root/.cache/pip/wheels/14/d0/a2/ffac7a9e056dc6644a525bcef6a4ed08c8b0ee1a45a96224c8\n",
            "  Building wheel for combo (setup.py) ... \u001b[?25l\u001b[?25hdone\n",
            "  Created wheel for combo: filename=combo-0.1.3-py3-none-any.whl size=42885 sha256=228a28f74eed65cd5ab4d9a05fa090b8320eb3081d7e507cb5a3a52b9c67ec51\n",
            "  Stored in directory: /root/.cache/pip/wheels/ec/44/39/0667fea44a2dfe692cc2a51f0f79ea49b9dee7def53594ef2e\n",
            "Successfully built suod combo\n",
            "Installing collected packages: combo, suod\n",
            "Successfully installed combo-0.1.3 suod-0.0.8\n"
          ]
        }
      ]
    },
    {
      "cell_type": "code",
      "execution_count": 5,
      "metadata": {
        "colab": {
          "base_uri": "https://localhost:8080/"
        },
        "id": "eS_PNL0WGgbt",
        "outputId": "843f0900-ab26-449c-fa53-4b5b4670684e"
      },
      "outputs": [
        {
          "output_type": "stream",
          "name": "stdout",
          "text": [
            "\n"
          ]
        },
        {
          "output_type": "stream",
          "name": "stderr",
          "text": [
            "[Parallel(n_jobs=1)]: Using backend SequentialBackend with 1 concurrent workers.\n",
            "[Parallel(n_jobs=1)]: Done   1 out of   1 | elapsed:  4.2min finished\n",
            "[Parallel(n_jobs=1)]: Using backend SequentialBackend with 1 concurrent workers.\n",
            "[Parallel(n_jobs=1)]: Done   1 out of   1 | elapsed:  5.2min finished\n"
          ]
        },
        {
          "output_type": "stream",
          "name": "stdout",
          "text": [
            "\n"
          ]
        },
        {
          "output_type": "stream",
          "name": "stderr",
          "text": [
            "[Parallel(n_jobs=1)]: Using backend SequentialBackend with 1 concurrent workers.\n"
          ]
        },
        {
          "output_type": "stream",
          "name": "stdout",
          "text": [
            "==============================\n",
            "ecod_validation_confusion_matrix\n",
            " [[   13    17]\n",
            " [   20 28412]]\n",
            "ecod_validation_f1_score\n",
            " 0.4126984126984127\n",
            "==============================\n",
            "copod_validation_confusion_matrix\n",
            " [[   13    17]\n",
            " [   14 28418]]\n",
            "copod_validation_f1_score\n",
            " 0.456140350877193\n",
            "==============================\n",
            "suod_validation_confusion_matrix\n",
            " [[   12    18]\n",
            " [   16 28416]]\n",
            "suod_validation_f1_score\n",
            " 0.4137931034482759\n"
          ]
        },
        {
          "output_type": "stream",
          "name": "stderr",
          "text": [
            "[Parallel(n_jobs=1)]: Done   1 out of   1 | elapsed:    6.9s finished\n"
          ]
        }
      ],
      "source": [
        "from tqdm import tqdm\n",
        "from sklearn.metrics import confusion_matrix, f1_score\n",
        "from pyod.models.ecod import ECOD\n",
        "from pyod.models.copod import COPOD\n",
        "from pyod.models.suod import SUOD\n",
        "\n",
        "ecod = ECOD(contamination=contamination)\n",
        "copod = COPOD(contamination=contamination)\n",
        "suod = SUOD(contamination=contamination)\n",
        "\n",
        "ecod.fit(trn)\n",
        "copod.fit(trn)\n",
        "suod.fit(trn)\n",
        "\n",
        "ecod_pred = ecod.predict(val)\n",
        "copod_pred = copod.predict(val)\n",
        "suod_pred = suod.predict(val)\n",
        "\n",
        "print('='*30)\n",
        "print('ecod_validation_confusion_matrix\\n',confusion_matrix(lab, ecod_pred,labels=[1,0]))\n",
        "print('ecod_validation_f1_score\\n', f1_score(lab, ecod_pred,labels=[1,0]))\n",
        "print('='*30)\n",
        "print('copod_validation_confusion_matrix\\n',confusion_matrix(lab, copod_pred,labels=[1,0]))\n",
        "print('copod_validation_f1_score\\n', f1_score(lab, copod_pred,labels=[1,0]))\n",
        "print('='*30)\n",
        "print('suod_validation_confusion_matrix\\n',confusion_matrix(lab, suod_pred,labels=[1,0]))\n",
        "print('suod_validation_f1_score\\n', f1_score(lab, suod_pred,labels=[1,0]))"
      ]
    },
    {
      "cell_type": "code",
      "execution_count": 6,
      "metadata": {
        "colab": {
          "base_uri": "https://localhost:8080/"
        },
        "id": "SnwBNEJ_Ggbv",
        "outputId": "4f37916b-726d-4a74-ac3b-b0ac0f805564"
      },
      "outputs": [
        {
          "output_type": "execute_result",
          "data": {
            "text/plain": [
              "{'approx_clf': None,\n",
              " 'approx_clf_list': None,\n",
              " 'approx_flag_global': True,\n",
              " 'approx_ng_clf_list': None,\n",
              " 'base_estimators': [LOF(algorithm='auto', contamination=0.1, leaf_size=30, metric='minkowski',\n",
              "    metric_params=None, n_jobs=1, n_neighbors=15, novelty=True, p=2),\n",
              "  LOF(algorithm='auto', contamination=0.1, leaf_size=30, metric='minkowski',\n",
              "    metric_params=None, n_jobs=1, n_neighbors=20, novelty=True, p=2),\n",
              "  HBOS(alpha=0.1, contamination=0.1, n_bins=10, tol=0.5),\n",
              "  HBOS(alpha=0.1, contamination=0.1, n_bins=20, tol=0.5),\n",
              "  COPOD(contamination=0.1, n_jobs=1),\n",
              "  IForest(behaviour='old', bootstrap=False, contamination=0.1, max_features=1.0,\n",
              "      max_samples='auto', n_estimators=50, n_jobs=1, random_state=None,\n",
              "      verbose=0),\n",
              "  IForest(behaviour='old', bootstrap=False, contamination=0.1, max_features=1.0,\n",
              "      max_samples='auto', n_estimators=100, n_jobs=1, random_state=None,\n",
              "      verbose=0),\n",
              "  IForest(behaviour='old', bootstrap=False, contamination=0.1, max_features=1.0,\n",
              "      max_samples='auto', n_estimators=150, n_jobs=1, random_state=None,\n",
              "      verbose=0)],\n",
              " 'bps_flag': True,\n",
              " 'combination': 'average',\n",
              " 'contamination': 0.0010551491277433877,\n",
              " 'cost_forecast_loc_fit': None,\n",
              " 'cost_forecast_loc_pred': None,\n",
              " 'jl_method': 'basic',\n",
              " 'n_jobs': None,\n",
              " 'rp_clf_list': None,\n",
              " 'rp_flag_global': True,\n",
              " 'rp_ng_clf_list': None,\n",
              " 'target_dim_frac': 0.5,\n",
              " 'verbose': False}"
            ]
          },
          "metadata": {},
          "execution_count": 6
        }
      ],
      "source": [
        "# suod : Anomaly detection ensemble model\n",
        "suod.get_params()"
      ]
    },
    {
      "cell_type": "code",
      "execution_count": 7,
      "metadata": {
        "id": "0pqcuV4VGgbv"
      },
      "outputs": [],
      "source": [
        "from sklearn.metrics import confusion_matrix, f1_score\n",
        "from pyod.models.auto_encoder import AutoEncoder\n",
        "from pyod.models.vae import VAE"
      ]
    },
    {
      "cell_type": "code",
      "execution_count": 8,
      "metadata": {
        "colab": {
          "base_uri": "https://localhost:8080/"
        },
        "id": "hcRIzdWlMFUY",
        "outputId": "5086e7a0-d8c2-48b8-9ce9-76ba2f239193"
      },
      "outputs": [
        {
          "output_type": "stream",
          "name": "stdout",
          "text": [
            "Model: \"sequential\"\n",
            "_________________________________________________________________\n",
            " Layer (type)                Output Shape              Param #   \n",
            "=================================================================\n",
            " dense (Dense)               (None, 30)                930       \n",
            "                                                                 \n",
            " dropout (Dropout)           (None, 30)                0         \n",
            "                                                                 \n",
            " dense_1 (Dense)             (None, 30)                930       \n",
            "                                                                 \n",
            " dropout_1 (Dropout)         (None, 30)                0         \n",
            "                                                                 \n",
            " dense_2 (Dense)             (None, 128)               3968      \n",
            "                                                                 \n",
            " dropout_2 (Dropout)         (None, 128)               0         \n",
            "                                                                 \n",
            " dense_3 (Dense)             (None, 64)                8256      \n",
            "                                                                 \n",
            " dropout_3 (Dropout)         (None, 64)                0         \n",
            "                                                                 \n",
            " dense_4 (Dense)             (None, 32)                2080      \n",
            "                                                                 \n",
            " dropout_4 (Dropout)         (None, 32)                0         \n",
            "                                                                 \n",
            " dense_5 (Dense)             (None, 16)                528       \n",
            "                                                                 \n",
            " dropout_5 (Dropout)         (None, 16)                0         \n",
            "                                                                 \n",
            " dense_6 (Dense)             (None, 16)                272       \n",
            "                                                                 \n",
            " dropout_6 (Dropout)         (None, 16)                0         \n",
            "                                                                 \n",
            " dense_7 (Dense)             (None, 32)                544       \n",
            "                                                                 \n",
            " dropout_7 (Dropout)         (None, 32)                0         \n",
            "                                                                 \n",
            " dense_8 (Dense)             (None, 64)                2112      \n",
            "                                                                 \n",
            " dropout_8 (Dropout)         (None, 64)                0         \n",
            "                                                                 \n",
            " dense_9 (Dense)             (None, 128)               8320      \n",
            "                                                                 \n",
            " dropout_9 (Dropout)         (None, 128)               0         \n",
            "                                                                 \n",
            " dense_10 (Dense)            (None, 30)                3870      \n",
            "                                                                 \n",
            "=================================================================\n",
            "Total params: 31,810\n",
            "Trainable params: 31,810\n",
            "Non-trainable params: 0\n",
            "_________________________________________________________________\n",
            "None\n",
            "Epoch 1/15\n",
            "2847/2847 [==============================] - 39s 7ms/step - loss: 1.2359 - val_loss: 0.9843\n",
            "Epoch 2/15\n",
            "2847/2847 [==============================] - 22s 8ms/step - loss: 1.0243 - val_loss: 0.9701\n",
            "Epoch 3/15\n",
            "2847/2847 [==============================] - 22s 8ms/step - loss: 1.0155 - val_loss: 0.9650\n",
            "Epoch 4/15\n",
            "2847/2847 [==============================] - 22s 8ms/step - loss: 1.0121 - val_loss: 0.9631\n",
            "Epoch 5/15\n",
            "2847/2847 [==============================] - 24s 9ms/step - loss: 1.0108 - val_loss: 0.9625\n",
            "Epoch 6/15\n",
            "2847/2847 [==============================] - 24s 9ms/step - loss: 1.0103 - val_loss: 0.9619\n",
            "Epoch 7/15\n",
            "2847/2847 [==============================] - 21s 7ms/step - loss: 1.0100 - val_loss: 0.9617\n",
            "Epoch 8/15\n",
            "2847/2847 [==============================] - 22s 8ms/step - loss: 1.0099 - val_loss: 0.9616\n",
            "Epoch 9/15\n",
            "2847/2847 [==============================] - 22s 8ms/step - loss: 1.0098 - val_loss: 0.9616\n",
            "Epoch 10/15\n",
            "2847/2847 [==============================] - 21s 7ms/step - loss: 1.0098 - val_loss: 0.9615\n",
            "Epoch 11/15\n",
            "2847/2847 [==============================] - 22s 8ms/step - loss: 1.0097 - val_loss: 0.9615\n",
            "Epoch 12/15\n",
            "2847/2847 [==============================] - 21s 7ms/step - loss: 1.0097 - val_loss: 0.9615\n",
            "Epoch 13/15\n",
            "2847/2847 [==============================] - 22s 8ms/step - loss: 1.0097 - val_loss: 0.9615\n",
            "Epoch 14/15\n",
            "2847/2847 [==============================] - 22s 8ms/step - loss: 1.0097 - val_loss: 0.9615\n",
            "Epoch 15/15\n",
            "2847/2847 [==============================] - 21s 7ms/step - loss: 1.0097 - val_loss: 0.9615\n",
            "3558/3558 [==============================] - 6s 2ms/step\n",
            "Model: \"model\"\n",
            "__________________________________________________________________________________________________\n",
            " Layer (type)                   Output Shape         Param #     Connected to                     \n",
            "==================================================================================================\n",
            " input_1 (InputLayer)           [(None, 30)]         0           []                               \n",
            "                                                                                                  \n",
            " dense_11 (Dense)               (None, 30)           930         ['input_1[0][0]']                \n",
            "                                                                                                  \n",
            " dense_12 (Dense)               (None, 128)          3968        ['dense_11[0][0]']               \n",
            "                                                                                                  \n",
            " dropout_10 (Dropout)           (None, 128)          0           ['dense_12[0][0]']               \n",
            "                                                                                                  \n",
            " dense_13 (Dense)               (None, 64)           8256        ['dropout_10[0][0]']             \n",
            "                                                                                                  \n",
            " dropout_11 (Dropout)           (None, 64)           0           ['dense_13[0][0]']               \n",
            "                                                                                                  \n",
            " dense_14 (Dense)               (None, 32)           2080        ['dropout_11[0][0]']             \n",
            "                                                                                                  \n",
            " dropout_12 (Dropout)           (None, 32)           0           ['dense_14[0][0]']               \n",
            "                                                                                                  \n",
            " dense_15 (Dense)               (None, 16)           528         ['dropout_12[0][0]']             \n",
            "                                                                                                  \n",
            " dropout_13 (Dropout)           (None, 16)           0           ['dense_15[0][0]']               \n",
            "                                                                                                  \n",
            " dense_16 (Dense)               (None, 2)            34          ['dropout_13[0][0]']             \n",
            "                                                                                                  \n",
            " dense_17 (Dense)               (None, 2)            34          ['dropout_13[0][0]']             \n",
            "                                                                                                  \n",
            " lambda (Lambda)                (None, 2)            0           ['dense_16[0][0]',               \n",
            "                                                                  'dense_17[0][0]']               \n",
            "                                                                                                  \n",
            "==================================================================================================\n",
            "Total params: 15,830\n",
            "Trainable params: 15,830\n",
            "Non-trainable params: 0\n",
            "__________________________________________________________________________________________________\n",
            "Model: \"model_1\"\n",
            "_________________________________________________________________\n",
            " Layer (type)                Output Shape              Param #   \n",
            "=================================================================\n",
            " input_2 (InputLayer)        [(None, 2)]               0         \n",
            "                                                                 \n",
            " dense_18 (Dense)            (None, 2)                 6         \n",
            "                                                                 \n",
            " dense_19 (Dense)            (None, 16)                48        \n",
            "                                                                 \n",
            " dropout_14 (Dropout)        (None, 16)                0         \n",
            "                                                                 \n",
            " dense_20 (Dense)            (None, 32)                544       \n",
            "                                                                 \n",
            " dropout_15 (Dropout)        (None, 32)                0         \n",
            "                                                                 \n",
            " dense_21 (Dense)            (None, 64)                2112      \n",
            "                                                                 \n",
            " dropout_16 (Dropout)        (None, 64)                0         \n",
            "                                                                 \n",
            " dense_22 (Dense)            (None, 128)               8320      \n",
            "                                                                 \n",
            " dropout_17 (Dropout)        (None, 128)               0         \n",
            "                                                                 \n",
            " dense_23 (Dense)            (None, 30)                3870      \n",
            "                                                                 \n",
            "=================================================================\n",
            "Total params: 14,900\n",
            "Trainable params: 14,900\n",
            "Non-trainable params: 0\n",
            "_________________________________________________________________\n",
            "Model: \"model_2\"\n",
            "__________________________________________________________________________________________________\n",
            " Layer (type)                   Output Shape         Param #     Connected to                     \n",
            "==================================================================================================\n",
            " input_1 (InputLayer)           [(None, 30)]         0           []                               \n",
            "                                                                                                  \n",
            " model (Functional)             [(None, 2),          15830       ['input_1[0][0]']                \n",
            "                                 (None, 2),                                                       \n",
            "                                 (None, 2)]                                                       \n",
            "                                                                                                  \n",
            " model_1 (Functional)           (None, 30)           14900       ['model[0][2]']                  \n",
            "                                                                                                  \n",
            " dense_11 (Dense)               (None, 30)           930         ['input_1[0][0]']                \n",
            "                                                                                                  \n",
            " dense_12 (Dense)               (None, 128)          3968        ['dense_11[0][0]']               \n",
            "                                                                                                  \n",
            " dropout_10 (Dropout)           (None, 128)          0           ['dense_12[0][0]']               \n",
            "                                                                                                  \n",
            " dense_13 (Dense)               (None, 64)           8256        ['dropout_10[0][0]']             \n",
            "                                                                                                  \n",
            " dropout_11 (Dropout)           (None, 64)           0           ['dense_13[0][0]']               \n",
            "                                                                                                  \n",
            " dense_14 (Dense)               (None, 32)           2080        ['dropout_11[0][0]']             \n",
            "                                                                                                  \n",
            " dropout_12 (Dropout)           (None, 32)           0           ['dense_14[0][0]']               \n",
            "                                                                                                  \n",
            " dense_15 (Dense)               (None, 16)           528         ['dropout_12[0][0]']             \n",
            "                                                                                                  \n",
            " dropout_13 (Dropout)           (None, 16)           0           ['dense_15[0][0]']               \n",
            "                                                                                                  \n",
            " dense_17 (Dense)               (None, 2)            34          ['dropout_13[0][0]']             \n",
            "                                                                                                  \n",
            " dense_16 (Dense)               (None, 2)            34          ['dropout_13[0][0]']             \n",
            "                                                                                                  \n",
            " tf.__operators__.add (TFOpLamb  (None, 2)           0           ['dense_17[0][0]']               \n",
            " da)                                                                                              \n",
            "                                                                                                  \n",
            " tf.math.square (TFOpLambda)    (None, 2)            0           ['dense_16[0][0]']               \n",
            "                                                                                                  \n",
            " tf.math.subtract (TFOpLambda)  (None, 2)            0           ['tf.__operators__.add[0][0]',   \n",
            "                                                                  'tf.math.square[0][0]']         \n",
            "                                                                                                  \n",
            " tf.math.exp (TFOpLambda)       (None, 2)            0           ['dense_17[0][0]']               \n",
            "                                                                                                  \n",
            " tf.math.subtract_1 (TFOpLambda  (None, 2)           0           ['tf.math.subtract[0][0]',       \n",
            " )                                                                'tf.math.exp[0][0]']            \n",
            "                                                                                                  \n",
            " tf.math.reduce_sum (TFOpLambda  (None,)             0           ['tf.math.subtract_1[0][0]']     \n",
            " )                                                                                                \n",
            "                                                                                                  \n",
            " tf.convert_to_tensor (TFOpLamb  (None, 30)          0           ['model_1[0][0]']                \n",
            " da)                                                                                              \n",
            "                                                                                                  \n",
            " tf.cast (TFOpLambda)           (None, 30)           0           ['input_1[0][0]']                \n",
            "                                                                                                  \n",
            " tf.math.multiply_1 (TFOpLambda  (None,)             0           ['tf.math.reduce_sum[0][0]']     \n",
            " )                                                                                                \n",
            "                                                                                                  \n",
            " tf.math.squared_difference (TF  (None, 30)          0           ['tf.convert_to_tensor[0][0]',   \n",
            " OpLambda)                                                        'tf.cast[0][0]']                \n",
            "                                                                                                  \n",
            " tf.math.subtract_2 (TFOpLambda  (None,)             0           ['tf.math.multiply_1[0][0]']     \n",
            " )                                                                                                \n",
            "                                                                                                  \n",
            " tf.math.reduce_mean (TFOpLambd  (None,)             0           ['tf.math.squared_difference[0][0\n",
            " a)                                                              ]']                              \n",
            "                                                                                                  \n",
            " tf.math.abs (TFOpLambda)       (None,)              0           ['tf.math.subtract_2[0][0]']     \n",
            "                                                                                                  \n",
            " tf.math.multiply (TFOpLambda)  (None,)              0           ['tf.math.reduce_mean[0][0]']    \n",
            "                                                                                                  \n",
            " tf.math.multiply_2 (TFOpLambda  (None,)             0           ['tf.math.abs[0][0]']            \n",
            " )                                                                                                \n",
            "                                                                                                  \n",
            " tf.__operators__.add_1 (TFOpLa  (None,)             0           ['tf.math.multiply[0][0]',       \n",
            " mbda)                                                            'tf.math.multiply_2[0][0]']     \n",
            "                                                                                                  \n",
            " tf.math.reduce_mean_1 (TFOpLam  ()                  0           ['tf.__operators__.add_1[0][0]'] \n",
            " bda)                                                                                             \n",
            "                                                                                                  \n",
            " add_loss (AddLoss)             ()                   0           ['tf.math.reduce_mean_1[0][0]']  \n",
            "                                                                                                  \n",
            "==================================================================================================\n",
            "Total params: 30,730\n",
            "Trainable params: 30,730\n",
            "Non-trainable params: 0\n",
            "__________________________________________________________________________________________________\n",
            "Epoch 1/15\n",
            "2847/2847 [==============================] - 29s 9ms/step - loss: 29.8606 - val_loss: 30.9404\n",
            "Epoch 2/15\n",
            "2847/2847 [==============================] - 25s 9ms/step - loss: 29.7579 - val_loss: 30.9403\n",
            "Epoch 3/15\n",
            "2847/2847 [==============================] - 25s 9ms/step - loss: 29.7580 - val_loss: 30.9403\n",
            "Epoch 4/15\n",
            "2847/2847 [==============================] - 27s 9ms/step - loss: 29.7570 - val_loss: 30.9403\n",
            "Epoch 5/15\n",
            "2847/2847 [==============================] - 25s 9ms/step - loss: 29.7563 - val_loss: 30.9403\n",
            "Epoch 6/15\n",
            "2847/2847 [==============================] - 24s 8ms/step - loss: 29.7611 - val_loss: 30.9403\n",
            "Epoch 7/15\n",
            "2847/2847 [==============================] - 25s 9ms/step - loss: 29.7709 - val_loss: 30.9403\n",
            "Epoch 8/15\n",
            "2847/2847 [==============================] - 25s 9ms/step - loss: 29.7577 - val_loss: 30.9403\n",
            "Epoch 9/15\n",
            "2847/2847 [==============================] - 25s 9ms/step - loss: 29.7971 - val_loss: 30.9403\n",
            "Epoch 10/15\n",
            "2847/2847 [==============================] - 25s 9ms/step - loss: 29.7659 - val_loss: 30.9403\n",
            "Epoch 11/15\n",
            "2847/2847 [==============================] - 25s 9ms/step - loss: 29.7575 - val_loss: 30.9403\n",
            "Epoch 12/15\n",
            "2847/2847 [==============================] - 24s 8ms/step - loss: 29.7623 - val_loss: 30.9403\n",
            "Epoch 13/15\n",
            "2847/2847 [==============================] - 25s 9ms/step - loss: 29.7599 - val_loss: 30.9403\n",
            "Epoch 14/15\n",
            "2847/2847 [==============================] - 25s 9ms/step - loss: 29.7565 - val_loss: 30.9403\n",
            "Epoch 15/15\n",
            "2847/2847 [==============================] - 25s 9ms/step - loss: 29.7591 - val_loss: 30.9403\n",
            "3558/3558 [==============================] - 7s 2ms/step\n",
            "890/890 [==============================] - 2s 2ms/step\n",
            "890/890 [==============================] - 2s 3ms/step\n"
          ]
        }
      ],
      "source": [
        "ae = AutoEncoder(\n",
        "    hidden_neurons=[128,64,32,16,16,32,64,128],\n",
        "    validation_size=0.2,\n",
        "    contamination=contamination,\n",
        "    verbose=1,\n",
        "    epochs=15\n",
        ")\n",
        "vae = VAE(\n",
        "    encoder_neurons=[128,64,32,16],\n",
        "    decoder_neurons=[16,32,64,128],\n",
        "    validation_size=0.2,\n",
        "    contamination=contamination,\n",
        "    verbose=1,\n",
        "    epochs=15\n",
        ")\n",
        "\n",
        "ae.fit(trn)\n",
        "vae.fit(trn)\n",
        "\n",
        "ae_pred = ae.predict(val)\n",
        "vae_pred = vae.predict(val)"
      ]
    },
    {
      "cell_type": "code",
      "execution_count": 9,
      "metadata": {
        "colab": {
          "base_uri": "https://localhost:8080/"
        },
        "id": "hyOcWwrTMWZe",
        "outputId": "4cb86133-59d8-4167-8426-a5d9f4ee7bbf"
      },
      "outputs": [
        {
          "output_type": "stream",
          "name": "stdout",
          "text": [
            "==============================\n",
            "ae_validation_confusion_matrix\n",
            " [[   11    19]\n",
            " [   21 28411]]\n",
            "ae_validation_f1_score\n",
            " 0.3548387096774193\n",
            "==============================\n",
            "vae_validation_confusion_matrix\n",
            " [[   11    19]\n",
            " [   21 28411]]\n",
            "vae_validation_f1_score\n",
            " 0.3548387096774193\n"
          ]
        }
      ],
      "source": [
        "print('='*30)\n",
        "print('ae_validation_confusion_matrix\\n',confusion_matrix(lab, ae_pred,labels=[1,0]))\n",
        "print('ae_validation_f1_score\\n', f1_score(lab, ae_pred,labels=[1,0]))\n",
        "print('='*30)\n",
        "print('vae_validation_confusion_matrix\\n',confusion_matrix(lab, vae_pred,labels=[1,0]))\n",
        "print('vae_validation_f1_score\\n', f1_score(lab, vae_pred,labels=[1,0]))"
      ]
    }
  ],
  "metadata": {
    "kernelspec": {
      "display_name": "Python 3.9.12 ('ppangppang')",
      "language": "python",
      "name": "python3"
    },
    "language_info": {
      "codemirror_mode": {
        "name": "ipython",
        "version": 3
      },
      "file_extension": ".py",
      "mimetype": "text/x-python",
      "name": "python",
      "nbconvert_exporter": "python",
      "pygments_lexer": "ipython3",
      "version": "3.9.12"
    },
    "orig_nbformat": 4,
    "vscode": {
      "interpreter": {
        "hash": "540344b0f56104dd127b2095bce08ee86d218da1ed9f9c0f54f4f6a1198c7eef"
      }
    },
    "colab": {
      "provenance": []
    },
    "accelerator": "GPU",
    "gpuClass": "standard"
  },
  "nbformat": 4,
  "nbformat_minor": 0
}