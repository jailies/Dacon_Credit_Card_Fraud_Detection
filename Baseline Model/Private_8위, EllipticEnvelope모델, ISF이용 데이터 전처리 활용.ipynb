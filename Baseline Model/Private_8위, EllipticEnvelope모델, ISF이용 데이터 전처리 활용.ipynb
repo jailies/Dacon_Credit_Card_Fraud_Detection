{
 "cells": [
  {
   "cell_type": "markdown",
   "id": "4c614b00",
   "metadata": {},
   "source": [
    "# 1.Data Loading"
   ]
  },
  {
   "cell_type": "code",
   "execution_count": 1,
   "id": "a56f5030",
   "metadata": {},
   "outputs": [],
   "source": [
    "import pandas as pd\n",
    "import numpy as np\n",
    "import seaborn as sns\n",
    "import matplotlib.pyplot as plt\n",
    "import matplotlib.gridspec as gridspec\n",
    "\n",
    "from scipy.stats import multivariate_normal\n",
    "\n",
    "from sklearn.metrics import f1_score, confusion_matrix, classification_report, precision_recall_fscore_support\n",
    "from sklearn.preprocessing import StandardScaler\n",
    "from sklearn.covariance import EllipticEnvelope\n",
    "\n",
    "\n",
    "\n",
    "import warnings\n",
    "warnings.filterwarnings(\"ignore\")\n",
    "import os\n",
    "\n",
    "plt.style.use('fivethirtyeight')"
   ]
  },
  {
   "cell_type": "code",
   "execution_count": 2,
   "id": "9aafd267",
   "metadata": {},
   "outputs": [],
   "source": [
    "from numpy import ma\n",
    "import math\n",
    "import matplotlib\n",
    "import matplotlib.colors as colors\n",
    "%matplotlib inline\n",
    "from matplotlib import ticker, cm\n",
    "from matplotlib.pyplot import figure"
   ]
  },
  {
   "cell_type": "code",
   "execution_count": 3,
   "id": "63945685",
   "metadata": {},
   "outputs": [],
   "source": [
    "dt_file_t=pd.read_csv(\"C:/Users/qkrru/My_Jupyter/Competition_CreditCard/train_Card.csv\")\n",
    "dt_file_v=pd.read_csv(\"C:/Users/qkrru/My_Jupyter/Competition_CreditCard/val_Card.csv\")\n",
    "dt_file_s=pd.read_csv(\"C:/Users/qkrru/My_Jupyter/Competition_CreditCard/test_Card.csv\")"
   ]
  },
  {
   "cell_type": "markdown",
   "id": "ba246949",
   "metadata": {},
   "source": [
    "# 2.ID제거"
   ]
  },
  {
   "cell_type": "code",
   "execution_count": 4,
   "id": "b99a612d",
   "metadata": {},
   "outputs": [],
   "source": [
    "dt_Raw_t=dt_file_t.copy()\n",
    "dt_Raw_v=dt_file_v.copy()\n",
    "dt_Raw_s=dt_file_s.copy()\n",
    "\n",
    "dt_Raw_t.drop(['ID'], axis=1, inplace=True)\n",
    "dt_Raw_v.drop(['ID'], axis=1, inplace=True)\n",
    "dt_Raw_s.drop(['ID'], axis=1, inplace=True)"
   ]
  },
  {
   "cell_type": "markdown",
   "id": "9a9f0263",
   "metadata": {},
   "source": [
    "# 3.DATA column  순서 변경"
   ]
  },
  {
   "cell_type": "code",
   "execution_count": 5,
   "id": "80b7ea16",
   "metadata": {},
   "outputs": [],
   "source": [
    "dt_Raw_t=dt_Raw_t[['V30','V1', 'V2', 'V3', 'V4', 'V5', 'V6', 'V7', 'V8', 'V9', 'V10',\n",
    "       'V11', 'V12', 'V13', 'V14', 'V15', 'V16', 'V17', 'V18', 'V19', 'V20',\n",
    "       'V21', 'V22', 'V23', 'V24', 'V25', 'V26', 'V27', 'V28', 'V29']]\n",
    "\n",
    "dt_Raw_v=dt_Raw_v[['V30','V1', 'V2', 'V3', 'V4', 'V5', 'V6', 'V7', 'V8', 'V9', 'V10',\n",
    "       'V11', 'V12', 'V13', 'V14', 'V15', 'V16', 'V17', 'V18', 'V19', 'V20',\n",
    "       'V21', 'V22', 'V23', 'V24', 'V25', 'V26', 'V27', 'V28', 'V29','Class']]\n",
    "\n",
    "dt_Raw_s=dt_Raw_s[['V30','V1', 'V2', 'V3', 'V4', 'V5', 'V6', 'V7', 'V8', 'V9', 'V10',\n",
    "       'V11', 'V12', 'V13', 'V14', 'V15', 'V16', 'V17', 'V18', 'V19', 'V20',\n",
    "       'V21', 'V22', 'V23','V24', 'V25', 'V26', 'V27', 'V28', 'V29']]\n"
   ]
  },
  {
   "cell_type": "markdown",
   "id": "ba9290ef",
   "metadata": {},
   "source": [
    "# 4. Traing Set Abnormal Data 제거(ISF)-----------------"
   ]
  },
  {
   "cell_type": "code",
   "execution_count": 6,
   "id": "4fa43b57",
   "metadata": {},
   "outputs": [],
   "source": [
    "from sklearn.ensemble import IsolationForest\n",
    "\n",
    "dt_t_wAb=dt_Raw_t.copy()#wAb : with Abnormal\n",
    "dt_t_wAb=dt_t_wAb[['V30','V1','V2','V3','V4','V5','V6','V7','V9','V10','V11','V12','V14','V16','V17','V18',\n",
    "                     'V19','V20','V21','V24','V27','V28','V29']]\n",
    "\n",
    "state=42\n",
    "\n",
    "ISF_t=IsolationForest(n_estimators=100, random_state = state, contamination = 0.00028)#현재 최적 0.00028\n",
    "ISF_t.fit(dt_t_wAb)\n",
    "\n",
    "y_dt_wAb=ISF_t.predict(dt_t_wAb)\n",
    "\n",
    "dt_t=dt_Raw_t.copy()\n",
    "dt_t['PureClass']=y_dt_wAb\n",
    "dt_t=dt_t[dt_t['PureClass']==1]\n",
    "dt_t.drop(['PureClass'],axis=1, inplace=True)#32개 빠진것을 보니 너무 조금 빠진듯 하다. 아마 200개 정도 Abnormal 일 듯"
   ]
  },
  {
   "cell_type": "markdown",
   "id": "33108aa4",
   "metadata": {},
   "source": [
    "# -----------------------------Feature Tuning1-----------------------------"
   ]
  },
  {
   "cell_type": "markdown",
   "id": "c7674ba3",
   "metadata": {},
   "source": [
    "# 5.Normalization"
   ]
  },
  {
   "cell_type": "code",
   "execution_count": 7,
   "id": "751564fb",
   "metadata": {},
   "outputs": [],
   "source": [
    "dt_t_Unorm = dt_t.copy()\n",
    "dt_v_Unorm = dt_Raw_v.copy()\n",
    "dt_s_Unorm = dt_Raw_s.copy()\n",
    "\n",
    "scl = StandardScaler()\n",
    "scl.fit(dt_t_Unorm)\n",
    "\n",
    "pca_columns = list(dt_v_Unorm)[:-1]\n",
    "all_cols = list(dt_v_Unorm)[:]\n",
    "\n",
    "dt_v_Class=dt_v_Unorm['Class'].values.reshape(-1,1)\n",
    "dt_v_scaled_pca=scl.transform(dt_v_Unorm[pca_columns])\n",
    "\n",
    "dt_t = scl.transform(dt_t_Unorm)\n",
    "dt_v = np.concatenate((dt_v_scaled_pca,dt_v_Class),axis=1)\n",
    "dt_s = scl.transform(dt_s_Unorm)\n",
    "\n",
    "dt_t=pd.DataFrame(dt_t, columns = pca_columns)\n",
    "dt_v=pd.DataFrame(dt_v, columns = all_cols)\n",
    "dt_s=pd.DataFrame(dt_s, columns = pca_columns)"
   ]
  },
  {
   "cell_type": "markdown",
   "id": "bb2599c0",
   "metadata": {},
   "source": [
    "# 6. Training, Test set 생성"
   ]
  },
  {
   "cell_type": "code",
   "execution_count": 8,
   "id": "7cb529d9",
   "metadata": {},
   "outputs": [
    {
     "name": "stdout",
     "output_type": "stream",
     "text": [
      "normal_pca_dt_v  (28432, 30)\n",
      "normal_pca_dt  (142242, 30)\n",
      "fraud_pca_dt_v (30, 30)\n",
      "Fraud data only in Test with NONE in the training\n",
      "X_train  (113810, 30)\n",
      "X_test  (28462, 30)\n",
      "y_test  (28462, 1)\n"
     ]
    }
   ],
   "source": [
    "tmp_dt_t = dt_t.copy()\n",
    "tmp_dt_v = dt_v.copy()\n",
    "tmp_dt_s = dt_s.copy()\n",
    "\n",
    "pca_columns = list(tmp_dt_v)[:-1]\n",
    "all_cols = list(tmp_dt_v)[:]\n",
    "\n",
    "n_outliers=dt_v[dt_v['Class'] == 1].shape[0]\n",
    "\n",
    "num_test=dt_v.shape[0]-n_outliers\n",
    "\n",
    "normal_dt_v=dt_v.loc[dt_v['Class'] == 0]\n",
    "fraud_dt_v=dt_v.loc[dt_v['Class'] == 1]\n",
    "\n",
    "normal_pca_dt_v=normal_dt_v[pca_columns]\n",
    "fraud_pca_dt_v=fraud_dt_v[pca_columns]\n",
    "\n",
    "X_train = dt_t.copy()\n",
    "X_test = np.concatenate([normal_pca_dt_v[:], fraud_pca_dt_v[:]])#뒤쪽에 abnormal데이터 몰아놨음\n",
    "y_test = np.concatenate([np.zeros(num_test), np.ones(n_outliers)])\n",
    "\n",
    "normal_pca_dt=np.concatenate([X_train[:], normal_pca_dt_v[:]])\n",
    "\n",
    "X_test=pd.DataFrame(X_test, columns = normal_pca_dt_v.columns)\n",
    "y_test=pd.DataFrame(y_test, columns = ['Class'])\n",
    "\n",
    "print(\"normal_pca_dt_v \", normal_pca_dt_v.shape)\n",
    "print(\"normal_pca_dt \", normal_pca_dt.shape)\n",
    "print(\"fraud_pca_dt_v\", fraud_pca_dt_v.shape)\n",
    "print(\"Fraud data only in Test with NONE in the training\")\n",
    "print(\"X_train \", X_train.shape)\n",
    "print(\"X_test \", X_test.shape)\n",
    "print(\"y_test \", y_test.shape)"
   ]
  },
  {
   "cell_type": "markdown",
   "id": "34524cd0",
   "metadata": {},
   "source": [
    "# 8. 모델 생성 및 평가"
   ]
  },
  {
   "cell_type": "markdown",
   "id": "0bbe9d3a",
   "metadata": {},
   "source": [
    "## 8-1. Multi-variable Gaussian"
   ]
  },
  {
   "cell_type": "code",
   "execution_count": 9,
   "id": "46df3faa",
   "metadata": {},
   "outputs": [
    {
     "name": "stdout",
     "output_type": "stream",
     "text": [
      "max prob of x on X_train 6.859361904048994e-13\n",
      "mean prob of x on X_train 1.8692575436749856e-14\n",
      "------------------------------------------------------------\n",
      "max prob of x on X_test 5.340008592807164e-13\n",
      "mean prob of x on X_test 1.8861048889633823e-14\n",
      "------------------------------------------------------------\n",
      "max prob of x on fraud_pca_dt 2.627755974696676e-15\n",
      "mean prob of x on fraud_pca_dt 1.1718539332932533e-16\n",
      "------------------------------------------------------------\n",
      "Difference between mean prob of Train vs Test  -1.6847345288396772e-16\n"
     ]
    }
   ],
   "source": [
    "p = multivariate_normal(mean=np.mean(X_train,axis=0), cov=np.cov(X_train.T))\n",
    "\n",
    "\n",
    "x = p.pdf(X_train)\n",
    "print(\"max prob of x on X_train\", max(x))\n",
    "print(\"mean prob of x on X_train\", np.mean(x))\n",
    "print('-' * 60)\n",
    "MyTrain = np.mean(x)\n",
    "\n",
    "x = p.pdf(X_test)\n",
    "print(\"max prob of x on X_test\", max(x))\n",
    "print(\"mean prob of x on X_test\", np.mean(x))\n",
    "print('-' * 60)\n",
    "MyTest = np.mean(x)\n",
    "\n",
    "x = p.pdf(fraud_pca_dt_v)\n",
    "print(\"max prob of x on fraud_pca_dt\", max(x))\n",
    "print(\"mean prob of x on fraud_pca_dt\", np.mean(x))\n",
    "print('-' * 60)\n",
    "\n",
    "print('Difference between mean prob of Train vs Test ', MyTrain - MyTest)"
   ]
  },
  {
   "cell_type": "markdown",
   "id": "e1c9c75e",
   "metadata": {},
   "source": [
    "### 8-1-1 Optimize Epsilon"
   ]
  },
  {
   "cell_type": "code",
   "execution_count": 10,
   "id": "da671fdc",
   "metadata": {},
   "outputs": [
    {
     "data": {
      "text/html": [
       "<div>\n",
       "<style scoped>\n",
       "    .dataframe tbody tr th:only-of-type {\n",
       "        vertical-align: middle;\n",
       "    }\n",
       "\n",
       "    .dataframe tbody tr th {\n",
       "        vertical-align: top;\n",
       "    }\n",
       "\n",
       "    .dataframe thead th {\n",
       "        text-align: right;\n",
       "    }\n",
       "</style>\n",
       "<table border=\"1\" class=\"dataframe\">\n",
       "  <thead>\n",
       "    <tr style=\"text-align: right;\">\n",
       "      <th></th>\n",
       "      <th>epsilon</th>\n",
       "      <th>F1</th>\n",
       "    </tr>\n",
       "  </thead>\n",
       "  <tbody>\n",
       "    <tr>\n",
       "      <th>0</th>\n",
       "      <td>1.000000e-110</td>\n",
       "      <td>0.2273</td>\n",
       "    </tr>\n",
       "    <tr>\n",
       "      <th>1</th>\n",
       "      <td>1.000000e-120</td>\n",
       "      <td>0.2479</td>\n",
       "    </tr>\n",
       "    <tr>\n",
       "      <th>2</th>\n",
       "      <td>1.000000e-130</td>\n",
       "      <td>0.2679</td>\n",
       "    </tr>\n",
       "    <tr>\n",
       "      <th>3</th>\n",
       "      <td>1.000000e-140</td>\n",
       "      <td>0.2772</td>\n",
       "    </tr>\n",
       "    <tr>\n",
       "      <th>4</th>\n",
       "      <td>1.000000e-150</td>\n",
       "      <td>0.2828</td>\n",
       "    </tr>\n",
       "  </tbody>\n",
       "</table>\n",
       "</div>"
      ],
      "text/plain": [
       "         epsilon      F1\n",
       "0  1.000000e-110  0.2273\n",
       "1  1.000000e-120  0.2479\n",
       "2  1.000000e-130  0.2679\n",
       "3  1.000000e-140  0.2772\n",
       "4  1.000000e-150  0.2828"
      ]
     },
     "execution_count": 10,
     "metadata": {},
     "output_type": "execute_result"
    }
   ],
   "source": [
    "x = p.pdf(X_test)\n",
    "\n",
    "EpsF1 = []\n",
    "# #1\n",
    "epsilons = [1e-110, 1e-120, 1e-130, 1e-140, 1e-150, 1e-160, 1e-170, 1e-180, 1e-190, 1e-200, 1e-210, 1e-220,\n",
    "           1e-230, 1e-240, 1e-250, 1e-260, 1e-270]\n",
    "\n",
    "for e in range(len(epsilons)):\n",
    "    eps = epsilons[e]\n",
    "    pred = (x <= eps)\n",
    "    f = f1_score(y_test, pred, average='binary')\n",
    "    EpsF1.append([eps, round(f,4)])\n",
    "    \n",
    "EpsF1df = pd.DataFrame(EpsF1, columns = ['epsilon', 'F1'])\n",
    "EpsF1df.head()"
   ]
  },
  {
   "cell_type": "code",
   "execution_count": 11,
   "id": "34a2d586",
   "metadata": {},
   "outputs": [
    {
     "data": {
      "text/plain": [
       "epsilon    1.000000e-250\n",
       "F1          3.562000e-01\n",
       "Name: 14, dtype: float64"
      ]
     },
     "execution_count": 11,
     "metadata": {},
     "output_type": "execute_result"
    }
   ],
   "source": [
    "EpsF1df.loc[EpsF1df['F1'].idxmax()]"
   ]
  },
  {
   "cell_type": "code",
   "execution_count": 12,
   "id": "83575e46",
   "metadata": {},
   "outputs": [
    {
     "data": {
      "image/png": "[encoded data removed]",
      "text/plain": [
       "<Figure size 432x288 with 1 Axes>"
      ]
     },
     "metadata": {
      "needs_background": "light"
     },
     "output_type": "display_data"
    }
   ],
   "source": [
    "EpsF1df.plot.line(\"epsilon\",\"F1\")\n",
    "plt.xscale('log')\n",
    "plt.xlim(1e-240, 1e-260)\n",
    "plt.title(\"F1 vs decreasing log Epsilon\")\n",
    "plt.show()"
   ]
  },
  {
   "cell_type": "code",
   "execution_count": 13,
   "id": "9fa50a5e",
   "metadata": {},
   "outputs": [
    {
     "name": "stdout",
     "output_type": "stream",
     "text": [
      "epsilon  1e-250\n",
      "__________________________________________________\n",
      "[[28402    30]\n",
      " [   17    13]]\n",
      "__________________________________________________\n",
      "TP  13\n",
      "FP  30\n",
      "TN  28402\n",
      "FN  17\n"
     ]
    }
   ],
   "source": [
    "eps = EpsF1df.loc[EpsF1df['F1'].idxmax()]['epsilon']\n",
    "\n",
    "print(\"epsilon \", eps)\n",
    "print(\"_\"*50)\n",
    "y_pred_GM = (x<=eps)\n",
    "pred=y_pred_GM.copy()\n",
    "CM = confusion_matrix(y_test,pred)\n",
    "tn, fp, fn, tp = confusion_matrix(y_test,pred).ravel()\n",
    "\n",
    "print(CM)\n",
    "print(\"_\"*50)\n",
    "print(\"TP \", tp)\n",
    "print(\"FP \", fp)\n",
    "print(\"TN \", tn)\n",
    "print(\"FN \", fn)"
   ]
  },
  {
   "cell_type": "markdown",
   "id": "1326c446",
   "metadata": {},
   "source": [
    "### 8-1-2 평가 함수 생성 및 평가"
   ]
  },
  {
   "cell_type": "code",
   "execution_count": 14,
   "id": "467caf55",
   "metadata": {},
   "outputs": [],
   "source": [
    "def plot_confusion_matrix(cm,target_names,title='Confusion matrix',cmap=None,\n",
    "                          normalize=False):\n",
    "    import itertools\n",
    "    accuracy = np.trace(cm) / float(np.sum(cm))\n",
    "    misclass = 1 - accuracy\n",
    "\n",
    "    if cmap is None:\n",
    "        cmap = plt.get_cmap('Blues')\n",
    "\n",
    "    plt.figure(figsize=(8, 6))\n",
    "    plt.imshow(cm, interpolation='nearest', cmap=cmap)\n",
    "    plt.title(title)\n",
    "    plt.colorbar()\n",
    "\n",
    "    if target_names is not None:\n",
    "        tick_marks = np.arange(len(target_names))\n",
    "        plt.xticks(tick_marks, target_names, rotation=45)\n",
    "        plt.yticks(tick_marks, target_names)\n",
    "\n",
    "    if normalize:\n",
    "        cm = cm.astype('float') / cm.sum(axis=1)[:, np.newaxis]\n",
    "        \n",
    "    thresh = cm.max() / 1.5 if normalize else cm.max() / 2\n",
    "    for i, j in itertools.product(range(cm.shape[0]), range(cm.shape[1])):\n",
    "        if normalize:\n",
    "            plt.text(j, i, \"{:0.4f}\".format(cm[i, j]),\n",
    "                     horizontalalignment=\"center\",\n",
    "                     color=\"white\" if cm[i, j] > thresh else \"black\")\n",
    "        else:\n",
    "            plt.text(j, i, \"{:,}\".format(cm[i, j]),\n",
    "                     horizontalalignment=\"center\",\n",
    "                     color=\"white\" if cm[i, j] > thresh else \"black\")\n",
    "\n",
    "\n",
    "    plt.tight_layout()\n",
    "    plt.ylabel('True label')\n",
    "    plt.xlabel('Predicted label\\naccuracy={:0.4f}; misclass={:0.4f}'.format(accuracy, misclass))\n",
    "    plt.show()"
   ]
  },
  {
   "cell_type": "code",
   "execution_count": 15,
   "id": "bc48ebf5",
   "metadata": {},
   "outputs": [
    {
     "data": {
      "image/png": "[encoded data removed]",
      "text/plain": [
       "<Figure size 576x432 with 2 Axes>"
      ]
     },
     "metadata": {
      "needs_background": "light"
     },
     "output_type": "display_data"
    }
   ],
   "source": [
    "plot_confusion_matrix(CM, \n",
    "                      normalize    = False,\n",
    "                      target_names = ['Normal', 'Fraud'],\n",
    "                      title        = \"Confusion Matrix\")"
   ]
  },
  {
   "cell_type": "code",
   "execution_count": 16,
   "id": "4eeb6819",
   "metadata": {},
   "outputs": [
    {
     "name": "stdout",
     "output_type": "stream",
     "text": [
      "precision  0.302\n",
      "recall  0.433\n",
      "F1 score on Test 0.356\n"
     ]
    }
   ],
   "source": [
    "precision,recall,fbeta_score, support  = precision_recall_fscore_support(y_test,pred, average='binary')\n",
    "print(\"precision \", round((precision), 3))\n",
    "print(\"recall \", round((recall), 3))\n",
    "print(\"F1 score on Test\", round((fbeta_score), 3))"
   ]
  },
  {
   "cell_type": "markdown",
   "id": "fe960d09",
   "metadata": {},
   "source": [
    "## 8-2 Robust Covariance"
   ]
  },
  {
   "cell_type": "code",
   "execution_count": 17,
   "id": "7b21aefd",
   "metadata": {},
   "outputs": [
    {
     "data": {
      "text/plain": [
       "9"
      ]
     },
     "execution_count": 17,
     "metadata": {},
     "output_type": "execute_result"
    }
   ],
   "source": [
    "PercFraud = (n_outliers/X_test.shape[0])\n",
    "\n",
    "cov = EllipticEnvelope(support_fraction = 0.996, contamination = PercFraud)\n",
    "clf_RC=cov.fit(X_train)\n",
    "\n",
    "y_pred_RC=clf_RC.predict(X_test)#RC는 positive=1, negative=-1을 반환한다\n",
    "\n",
    "ground_truth = np.ones(len(X_test), dtype=int)\n",
    "ground_truth[-n_outliers:] = -1#y_test를 1,-1로 바꾼 형태\n",
    "y_pred=y_pred_RC.copy()\n",
    "n_errors = (y_pred != ground_truth).sum()\n",
    "n_errors"
   ]
  },
  {
   "cell_type": "code",
   "execution_count": 18,
   "id": "64a7c5ea",
   "metadata": {},
   "outputs": [
    {
     "data": {
      "text/plain": [
       "0.0010540369615627855"
      ]
     },
     "execution_count": 18,
     "metadata": {},
     "output_type": "execute_result"
    }
   ],
   "source": [
    "PercFraud"
   ]
  },
  {
   "cell_type": "markdown",
   "id": "3c5c4a06",
   "metadata": {},
   "source": [
    "### 8-2-1 평가"
   ]
  },
  {
   "cell_type": "code",
   "execution_count": 19,
   "id": "1699c148",
   "metadata": {},
   "outputs": [
    {
     "name": "stdout",
     "output_type": "stream",
     "text": [
      "precision  0.8621\n",
      "recall  0.8333\n",
      "F1 score on Test 0.8475\n"
     ]
    }
   ],
   "source": [
    "y_pred_RC = y_pred.copy()\n",
    "y_predDF = pd.DataFrame(y_pred_RC)\n",
    "\n",
    "y_predDF[y_predDF[0] == 1] = 0\n",
    "y_predDF[y_predDF[0] == -1] = 1\n",
    "\n",
    "y_pred_RC = y_predDF.values\n",
    "y_pred_RC = np.ravel(y_pred_RC)\n",
    "\n",
    "precision,recall,fbeta_score, support  = precision_recall_fscore_support(y_test, y_pred_RC, average='binary')\n",
    "print(\"precision \", round((precision), 4))\n",
    "print(\"recall \", round((recall), 4))\n",
    "print(\"F1 score on Test\", round((fbeta_score), 4))"
   ]
  },
  {
   "cell_type": "code",
   "execution_count": 20,
   "id": "6d7d5a85",
   "metadata": {},
   "outputs": [
    {
     "name": "stdout",
     "output_type": "stream",
     "text": [
      "[[28428     4]\n",
      " [    5    25]]\n",
      "__________________________________________________\n",
      "TP  25\n",
      "FP  4\n",
      "TN  28428\n",
      "FN  5\n"
     ]
    }
   ],
   "source": [
    "CM = confusion_matrix(y_test, y_pred_RC)\n",
    "tn, fp, fn, tp = confusion_matrix(y_test, y_pred_RC).ravel()\n",
    "\n",
    "print(CM)\n",
    "print(\"_\"*50)\n",
    "print(\"TP \", tp)\n",
    "print(\"FP \", fp)\n",
    "print(\"TN \", tn)\n",
    "print(\"FN \", fn)"
   ]
  },
  {
   "cell_type": "code",
   "execution_count": 21,
   "id": "0d95336e",
   "metadata": {},
   "outputs": [
    {
     "data": {
      "image/png": "[encoded data removed]",
      "text/plain": [
       "<Figure size 576x432 with 2 Axes>"
      ]
     },
     "metadata": {
      "needs_background": "light"
     },
     "output_type": "display_data"
    }
   ],
   "source": [
    "plot_confusion_matrix(CM, \n",
    "                      normalize    = False,\n",
    "                      target_names = ['Normal', 'Fraud'],\n",
    "                      title        = \"Confusion Matrix\")"
   ]
  },
  {
   "cell_type": "code",
   "execution_count": 22,
   "id": "eeacc684",
   "metadata": {},
   "outputs": [],
   "source": [
    "y_pred_RC_DF=pd.DataFrame(y_pred_RC)\n",
    "y_pred_RC_DF.rename(columns ={0:'Class'},inplace=True)\n",
    "un_classified_RC=y_pred_RC_DF.add(y_test)\n",
    "un_classified_RC=un_classified_RC.add(y_pred_RC_DF)\n",
    "un_classified_RC.Class[un_classified_RC['Class']==2]=0\n",
    "un_classified_RC.Class[un_classified_RC['Class']==3]=0\n",
    "un_classified_RC=un_classified_RC[un_classified_RC['Class']==1]"
   ]
  },
  {
   "cell_type": "code",
   "execution_count": 23,
   "id": "39d95576",
   "metadata": {},
   "outputs": [
    {
     "data": {
      "text/html": [
       "<div>\n",
       "<style scoped>\n",
       "    .dataframe tbody tr th:only-of-type {\n",
       "        vertical-align: middle;\n",
       "    }\n",
       "\n",
       "    .dataframe tbody tr th {\n",
       "        vertical-align: top;\n",
       "    }\n",
       "\n",
       "    .dataframe thead th {\n",
       "        text-align: right;\n",
       "    }\n",
       "</style>\n",
       "<table border=\"1\" class=\"dataframe\">\n",
       "  <thead>\n",
       "    <tr style=\"text-align: right;\">\n",
       "      <th></th>\n",
       "      <th>Class</th>\n",
       "    </tr>\n",
       "  </thead>\n",
       "  <tbody>\n",
       "    <tr>\n",
       "      <th>28432</th>\n",
       "      <td>1.0</td>\n",
       "    </tr>\n",
       "    <tr>\n",
       "      <th>28440</th>\n",
       "      <td>1.0</td>\n",
       "    </tr>\n",
       "    <tr>\n",
       "      <th>28444</th>\n",
       "      <td>1.0</td>\n",
       "    </tr>\n",
       "    <tr>\n",
       "      <th>28448</th>\n",
       "      <td>1.0</td>\n",
       "    </tr>\n",
       "    <tr>\n",
       "      <th>28461</th>\n",
       "      <td>1.0</td>\n",
       "    </tr>\n",
       "  </tbody>\n",
       "</table>\n",
       "</div>"
      ],
      "text/plain": [
       "       Class\n",
       "28432    1.0\n",
       "28440    1.0\n",
       "28444    1.0\n",
       "28448    1.0\n",
       "28461    1.0"
      ]
     },
     "execution_count": 23,
     "metadata": {},
     "output_type": "execute_result"
    }
   ],
   "source": [
    "un_classified_RC"
   ]
  },
  {
   "cell_type": "markdown",
   "id": "1e7d0a6e",
   "metadata": {},
   "source": [
    "### 8-3-1 평가"
   ]
  },
  {
   "cell_type": "code",
   "execution_count": 24,
   "id": "772f6b3d",
   "metadata": {},
   "outputs": [
    {
     "name": "stdout",
     "output_type": "stream",
     "text": [
      "precision  0.8621\n",
      "recall  0.8333\n",
      "F1 score on Test 0.8475\n"
     ]
    }
   ],
   "source": [
    "y_pred_LOF = y_pred.copy()\n",
    "y_predDF = pd.DataFrame(y_pred_LOF)\n",
    "\n",
    "y_predDF[y_predDF[0] == 1] = 0\n",
    "y_predDF[y_predDF[0] == -1] = 1\n",
    "\n",
    "y_pred_LOF = y_predDF.values\n",
    "y_pred_LOF = np.ravel(y_pred_LOF)\n",
    "\n",
    " # F1 Score\n",
    " #print(\"F1 score\", round(f1_score(y_valid,pred, average='binary'), 4))\n",
    "precision,recall,fbeta_score, support  = precision_recall_fscore_support(y_test, y_pred_LOF, average='binary')\n",
    "print(\"precision \", round((precision), 4))\n",
    "print(\"recall \", round((recall), 4))\n",
    "print(\"F1 score on Test\", round((fbeta_score), 4))"
   ]
  },
  {
   "cell_type": "markdown",
   "id": "51f86cc5",
   "metadata": {},
   "source": [
    "# SUBMISSION"
   ]
  },
  {
   "cell_type": "code",
   "execution_count": 25,
   "id": "fe3aa585",
   "metadata": {},
   "outputs": [],
   "source": [
    "s_pred_RC=clf_RC.predict(dt_s)\n",
    "s_pred_RC = pd.DataFrame(s_pred_RC)\n",
    "s_pred_RC.rename(columns = {0:'Class'}, inplace = True)\n",
    "s_pred_RC.loc[s_pred_RC['Class']==1,'Class']=0\n",
    "s_pred_RC.loc[s_pred_RC['Class']==-1,'Class']=1"
   ]
  },
  {
   "cell_type": "code",
   "execution_count": 26,
   "id": "47975a6e",
   "metadata": {},
   "outputs": [
    {
     "data": {
      "text/plain": [
       "Class\n",
       "0        142192\n",
       "1           311\n",
       "dtype: int64"
      ]
     },
     "execution_count": 26,
     "metadata": {},
     "output_type": "execute_result"
    }
   ],
   "source": [
    "s_pred_RC.value_counts()"
   ]
  },
  {
   "cell_type": "code",
   "execution_count": 27,
   "id": "0ec7a15b",
   "metadata": {},
   "outputs": [],
   "source": [
    "submission=[]\n",
    "submission=pd.DataFrame(submission)\n",
    "type(submission)\n",
    "submission['ID']=dt_file_s['ID']\n",
    "submission['Class']=s_pred_RC['Class']"
   ]
  },
  {
   "cell_type": "code",
   "execution_count": 28,
   "id": "7076b8a6",
   "metadata": {
    "scrolled": true
   },
   "outputs": [
    {
     "data": {
      "text/plain": [
       "0    142192\n",
       "1       311\n",
       "Name: Class, dtype: int64"
      ]
     },
     "execution_count": 28,
     "metadata": {},
     "output_type": "execute_result"
    }
   ],
   "source": [
    "submission.Class.value_counts()"
   ]
  },
  {
   "cell_type": "code",
   "execution_count": null,
   "id": "a6ce9002",
   "metadata": {},
   "outputs": [],
   "source": [
    "submission.to_csv('C:/Users/qkrru/My_Jupyter/Competition_CreditCard/submission.csv')"
   ]
  }
 ],
 "metadata": {
  "kernelspec": {
   "display_name": "Python 3 (ipykernel)",
   "language": "python",
   "name": "python3"
  },
  "language_info": {
   "codemirror_mode": {
    "name": "ipython",
    "version": 3
   },
   "file_extension": ".py",
   "mimetype": "text/x-python",
   "name": "python",
   "nbconvert_exporter": "python",
   "pygments_lexer": "ipython3",
   "version": "3.9.7"
  }
 },
 "nbformat": 4,
 "nbformat_minor": 5
}
