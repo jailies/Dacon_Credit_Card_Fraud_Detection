{
 "cells": [
  {
   "cell_type": "code",
   "execution_count": 1,
   "id": "f691adfa",
   "metadata": {},
   "outputs": [],
   "source": [
    "import pandas as pd\n",
    "import seaborn as sns\n",
    "import numpy as np\n",
    "\n",
    "from sklearn.ensemble import IsolationForest\n",
    "from sklearn.covariance import EllipticEnvelope\n",
    "from sklearn.metrics import f1_score\n",
    "from sklearn.metrics import classification_report\n",
    "from sklearn.metrics import confusion_matrix\n",
    "\n",
    "import random\n",
    "import os\n",
    "import torch\n",
    "import torch.nn as nn\n",
    "import torch.optim as optim\n",
    "import torch.nn.functional as F\n",
    "from torch.utils.data import Dataset, DataLoader\n",
    "import seaborn as sns\n",
    "\n",
    "from sklearn.preprocessing import Normalizer\n",
    "import matplotlib.pyplot as plt\n",
    "import matplotlib.gridspec as gridspec\n",
    "import torch.utils.data as data_utils"
   ]
  },
  {
   "cell_type": "code",
   "execution_count": null,
   "id": "a805e5e0",
   "metadata": {},
   "outputs": [],
   "source": [
    "import  os\n",
    "import pandas as pd\n",
    "import numpy as np\n",
    "from sklearn.model_selection import train_test_split\n",
    "\n",
    "df = pd.read_csv('open/train.csv')\n",
    "# number of features = 30 (features, incl. time) + 1 (label)\n",
    "\n",
    "df = df.drop(['Time'], axis=1)   #drop time feature; number of input features = 29\n",
    "\n",
    "\n",
    "''' \n",
    "# normalize data below \n",
    "cols_to_norm = ['V1','V2','V3','V4','V5','V6','V7','V8','V9','V10',\n",
    "                'V11','V12','V13','V14','V15','V16','V17','V18','V19','V20', \n",
    "                'V21','V22','V23','V24','V25','V26','V27','V28', 'Amount' ]\n",
    "df.loc[:, cols_to_norm] = (df[cols_to_norm] - df[cols_to_norm].mean()) / df[cols_to_norm].std()\n",
    "\n",
    "'''\n",
    "\n",
    "cols_to_norm = ['Amount' ]\n",
    "\n",
    "df.loc[:, cols_to_norm] = (df[cols_to_norm] - df[cols_to_norm].mean()) / df[cols_to_norm].std()\n",
    "\n",
    "\n",
    "df.head()\n",
    "#df.info()\n",
    "df.describe()"
   ]
  }
 ],
 "metadata": {
  "kernelspec": {
   "display_name": "Python 3 (ipykernel)",
   "language": "python",
   "name": "python3"
  },
  "language_info": {
   "codemirror_mode": {
    "name": "ipython",
    "version": 3
   },
   "file_extension": ".py",
   "mimetype": "text/x-python",
   "name": "python",
   "nbconvert_exporter": "python",
   "pygments_lexer": "ipython3",
   "version": "3.9.12"
  }
 },
 "nbformat": 4,
 "nbformat_minor": 5
}
