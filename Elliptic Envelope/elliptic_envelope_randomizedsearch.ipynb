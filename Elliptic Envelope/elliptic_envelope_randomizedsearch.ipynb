{
  "cells": [
    {
      "cell_type": "code",
      "execution_count": 1,
      "id": "1sbYGESQLYai",
      "metadata": {
        "colab": {
          "base_uri": "https://localhost:8080/"
        },
        "id": "1sbYGESQLYai",
        "outputId": "71855006-00ca-412c-c927-54a8a5a7d723"
      },
      "outputs": [
        {
          "output_type": "stream",
          "name": "stdout",
          "text": [
            "Mounted at /content/drive\n"
          ]
        }
      ],
      "source": [
        "from google.colab import drive\n",
        "drive.mount('/content/drive')"
      ]
    },
    {
      "cell_type": "markdown",
      "source": [
        "## 시드고정"
      ],
      "metadata": {
        "id": "TZHRvAOUVksG"
      },
      "id": "TZHRvAOUVksG"
    },
    {
      "cell_type": "code",
      "source": [
        "import random\n",
        "import os\n",
        "import numpy as np\n",
        "import torch\n",
        "def seed_everything(seed):\n",
        "    random.seed(seed)\n",
        "    os.environ['PYTHONHASHSEED'] = str(seed)\n",
        "    np.random.seed(seed)\n",
        "    torch.manual_seed(seed)\n",
        "    torch.cuda.manual_seed(seed)\n",
        "    torch.backends.cudnn.deterministic = True\n",
        "    torch.backends.cudnn.benchmark = True\n",
        "\n",
        "seed_everything(41) # Seed 고정"
      ],
      "metadata": {
        "id": "h9_i0pkWN8E-"
      },
      "id": "h9_i0pkWN8E-",
      "execution_count": 11,
      "outputs": []
    },
    {
      "cell_type": "markdown",
      "id": "a2bcba5f-002e-4f49-9622-ada6117faf0a",
      "metadata": {
        "id": "a2bcba5f-002e-4f49-9622-ada6117faf0a"
      },
      "source": [
        "## Import"
      ]
    },
    {
      "cell_type": "code",
      "source": [
        "import pandas as pd\n",
        "import numpy as np\n",
        "\n",
        "from sklearn.ensemble import IsolationForest\n",
        "from sklearn.metrics import f1_score\n",
        "from sklearn.metrics import classification_report\n",
        "\n",
        "import matplotlib.pyplot as plt\n",
        "\n",
        "import warnings\n",
        "warnings.filterwarnings(action='ignore')"
      ],
      "metadata": {
        "id": "lvrnO3SgStYn"
      },
      "id": "lvrnO3SgStYn",
      "execution_count": 12,
      "outputs": []
    },
    {
      "cell_type": "code",
      "source": [
        "train_df = pd.read_csv('./drive/MyDrive/신용카드 사기 데이콘/open/train.csv')\n",
        "val_df = pd.read_csv('./drive/MyDrive/신용카드 사기 데이콘/open/val.csv')\n",
        "test = pd.read_csv('./drive/MyDrive/신용카드 사기 데이콘/open/test.csv')\n",
        "\n",
        "print(train_df.shape, val_df.shape, test.shape)"
      ],
      "metadata": {
        "colab": {
          "base_uri": "https://localhost:8080/"
        },
        "id": "YncBj4Y_R8-7",
        "outputId": "3d78cc96-5e4f-4abd-d67b-0b23ecac42bc"
      },
      "id": "YncBj4Y_R8-7",
      "execution_count": 13,
      "outputs": [
        {
          "output_type": "stream",
          "name": "stdout",
          "text": [
            "(113842, 31) (28462, 32) (142503, 31)\n"
          ]
        }
      ]
    },
    {
      "cell_type": "code",
      "source": [
        "from sklearn import svm\n",
        "from sklearn.datasets import make_moons, make_blobs\n",
        "from sklearn.covariance import EllipticEnvelope\n",
        "from sklearn.ensemble import IsolationForest\n",
        "from sklearn.neighbors import LocalOutlierFactor\n",
        "from sklearn.linear_model import SGDOneClassSVM\n",
        "from sklearn.kernel_approximation import Nystroem\n",
        "from sklearn.pipeline import make_pipeline\n"
      ],
      "metadata": {
        "id": "Z0_sk7n2TCgV"
      },
      "id": "Z0_sk7n2TCgV",
      "execution_count": 14,
      "outputs": []
    },
    {
      "cell_type": "code",
      "source": [
        "from sklearn.metrics import f1_score, confusion_matrix, classification_report, precision_recall_fscore_support\n",
        "from sklearn.preprocessing import StandardScaler\n",
        "from sklearn.covariance import EllipticEnvelope"
      ],
      "metadata": {
        "id": "URYLbXCBZGR3"
      },
      "id": "URYLbXCBZGR3",
      "execution_count": 15,
      "outputs": []
    },
    {
      "cell_type": "code",
      "source": [
        "# Train dataset은 Label이 존재하지 않음\n",
        "train_x = train_df.drop(columns=['ID']) # Input Data"
      ],
      "metadata": {
        "id": "XkR2v3OTb639"
      },
      "id": "XkR2v3OTb639",
      "execution_count": 16,
      "outputs": []
    },
    {
      "cell_type": "code",
      "source": [
        "def get_pred_label(model_pred):\n",
        "    # IsolationForest 모델 출력 (1:정상, -1:불량(사기)) 이므로 (0:정상, 1:불량(사기))로 Label 변환\n",
        "    model_pred = np.where(model_pred == 1, 0, model_pred)\n",
        "    model_pred = np.where(model_pred == -1, 1, model_pred)\n",
        "    return model_pred"
      ],
      "metadata": {
        "id": "HL0TnpjdTEp7"
      },
      "id": "HL0TnpjdTEp7",
      "execution_count": 17,
      "outputs": []
    },
    {
      "cell_type": "markdown",
      "source": [
        "## model define, fit"
      ],
      "metadata": {
        "id": "clzEksUNVsTW"
      },
      "id": "clzEksUNVsTW"
    },
    {
      "cell_type": "code",
      "source": [
        "from sklearn.model_selection import RandomizedSearchCV\n",
        "from sklearn.covariance import EllipticEnvelope\n",
        "from scipy.stats import uniform\n",
        "\n",
        "param_dist = {\n",
        "    'support_fraction': uniform(0.99, 0.01),\n",
        "    'contamination': uniform(0.0001, 0.001),\n",
        "}\n",
        "\n",
        "model = EllipticEnvelope(random_state=42)\n",
        "random_search = RandomizedSearchCV(model, param_distributions=param_dist, n_iter=20, cv=5, random_state=42, verbose=2)\n",
        "\n",
        "random_search.fit(train_x)\n",
        "\n",
        "print(f'Best parameters: {random_search.best_params_}')\n",
        "print(f'Best score: {random_search.best_score_:.4f}')"
      ],
      "metadata": {
        "colab": {
          "base_uri": "https://localhost:8080/"
        },
        "id": "EK_wWQeYTGeA",
        "outputId": "666cc3b8-d246-4c92-c489-7a161ef98abe"
      },
      "id": "EK_wWQeYTGeA",
      "execution_count": 18,
      "outputs": [
        {
          "output_type": "stream",
          "name": "stdout",
          "text": [
            "Fitting 5 folds for each of 20 candidates, totalling 100 fits\n",
            "[CV] END contamination=0.0004745401188473625, support_fraction=0.9995071430640992; total time=  36.9s\n",
            "[CV] END contamination=0.0004745401188473625, support_fraction=0.9995071430640992; total time=  34.5s\n",
            "[CV] END contamination=0.0004745401188473625, support_fraction=0.9995071430640992; total time=  43.8s\n",
            "[CV] END contamination=0.0004745401188473625, support_fraction=0.9995071430640992; total time=  37.5s\n",
            "[CV] END contamination=0.0004745401188473625, support_fraction=0.9995071430640992; total time=  35.8s\n",
            "[CV] END contamination=0.0008319939418114052, support_fraction=0.9959865848419703; total time=  54.1s\n",
            "[CV] END contamination=0.0008319939418114052, support_fraction=0.9959865848419703; total time=  46.1s\n",
            "[CV] END contamination=0.0008319939418114052, support_fraction=0.9959865848419703; total time=  50.5s\n",
            "[CV] END contamination=0.0008319939418114052, support_fraction=0.9959865848419703; total time=  43.6s\n",
            "[CV] END contamination=0.0008319939418114052, support_fraction=0.9959865848419703; total time=  49.5s\n",
            "[CV] END contamination=0.00025601864044243655, support_fraction=0.991559945203362; total time=  58.8s\n",
            "[CV] END contamination=0.00025601864044243655, support_fraction=0.991559945203362; total time=  56.2s\n",
            "[CV] END contamination=0.00025601864044243655, support_fraction=0.991559945203362; total time=  56.9s\n",
            "[CV] END contamination=0.00025601864044243655, support_fraction=0.991559945203362; total time=  54.4s\n",
            "[CV] END contamination=0.00025601864044243655, support_fraction=0.991559945203362; total time=  54.0s\n",
            "[CV] END contamination=0.00015808361216819946, support_fraction=0.9986617614577493; total time=  38.2s\n",
            "[CV] END contamination=0.00015808361216819946, support_fraction=0.9986617614577493; total time=  42.9s\n",
            "[CV] END contamination=0.00015808361216819946, support_fraction=0.9986617614577493; total time=  41.1s\n",
            "[CV] END contamination=0.00015808361216819946, support_fraction=0.9986617614577493; total time=  51.6s\n",
            "[CV] END contamination=0.00015808361216819946, support_fraction=0.9986617614577493; total time=  46.8s\n",
            "[CV] END contamination=0.0007011150117432088, support_fraction=0.9970807257779605; total time=  40.1s\n",
            "[CV] END contamination=0.0007011150117432088, support_fraction=0.9970807257779605; total time=  43.3s\n",
            "[CV] END contamination=0.0007011150117432088, support_fraction=0.9970807257779605; total time=  40.8s\n",
            "[CV] END contamination=0.0007011150117432088, support_fraction=0.9970807257779605; total time=  37.8s\n",
            "[CV] END contamination=0.0007011150117432088, support_fraction=0.9970807257779605; total time=  43.7s\n",
            "[CV] END contamination=0.00012058449429580245, support_fraction=0.99969909852162; total time=  35.8s\n",
            "[CV] END contamination=0.00012058449429580245, support_fraction=0.99969909852162; total time=  33.9s\n",
            "[CV] END contamination=0.00012058449429580245, support_fraction=0.99969909852162; total time=  34.9s\n",
            "[CV] END contamination=0.00012058449429580245, support_fraction=0.99969909852162; total time=  34.5s\n",
            "[CV] END contamination=0.00012058449429580245, support_fraction=0.99969909852162; total time=  33.8s\n",
            "[CV] END contamination=0.0009324426408004219, support_fraction=0.9921233911067827; total time= 1.1min\n",
            "[CV] END contamination=0.0009324426408004219, support_fraction=0.9921233911067827; total time=  51.1s\n",
            "[CV] END contamination=0.0009324426408004219, support_fraction=0.9921233911067827; total time=  57.0s\n",
            "[CV] END contamination=0.0009324426408004219, support_fraction=0.9921233911067827; total time=  55.8s\n",
            "[CV] END contamination=0.0009324426408004219, support_fraction=0.9921233911067827; total time=  48.9s\n",
            "[CV] END contamination=0.0002818249672071006, support_fraction=0.9918340450985343; total time=  59.8s\n",
            "[CV] END contamination=0.0002818249672071006, support_fraction=0.9918340450985343; total time=  54.6s\n",
            "[CV] END contamination=0.0002818249672071006, support_fraction=0.9918340450985343; total time=  55.2s\n",
            "[CV] END contamination=0.0002818249672071006, support_fraction=0.9918340450985343; total time=  56.3s\n",
            "[CV] END contamination=0.0002818249672071006, support_fraction=0.9918340450985343; total time=  51.4s\n",
            "[CV] END contamination=0.0004042422429595377, support_fraction=0.9952475643163223; total time=  51.4s\n",
            "[CV] END contamination=0.0004042422429595377, support_fraction=0.9952475643163223; total time=  45.1s\n",
            "[CV] END contamination=0.0004042422429595377, support_fraction=0.9952475643163223; total time=  51.1s\n",
            "[CV] END contamination=0.0004042422429595377, support_fraction=0.9952475643163223; total time=  48.0s\n",
            "[CV] END contamination=0.0004042422429595377, support_fraction=0.9952475643163223; total time=  46.0s\n",
            "[CV] END contamination=0.0005319450186421158, support_fraction=0.9929122914019805; total time= 1.0min\n",
            "[CV] END contamination=0.0005319450186421158, support_fraction=0.9929122914019805; total time=  50.2s\n",
            "[CV] END contamination=0.0005319450186421158, support_fraction=0.9929122914019805; total time=  55.8s\n",
            "[CV] END contamination=0.0005319450186421158, support_fraction=0.9929122914019805; total time=  53.1s\n",
            "[CV] END contamination=0.0005319450186421158, support_fraction=0.9929122914019805; total time=  48.9s\n",
            "[CV] END contamination=0.0007118528947223795, support_fraction=0.9913949386065204; total time=  55.6s\n",
            "[CV] END contamination=0.0007118528947223795, support_fraction=0.9913949386065204; total time=  56.5s\n",
            "[CV] END contamination=0.0007118528947223795, support_fraction=0.9913949386065204; total time=  58.8s\n",
            "[CV] END contamination=0.0007118528947223795, support_fraction=0.9913949386065204; total time=  58.1s\n",
            "[CV] END contamination=0.0007118528947223795, support_fraction=0.9913949386065204; total time=  55.4s\n",
            "[CV] END contamination=0.00039214464853521813, support_fraction=0.9936636184329369; total time=  59.3s\n",
            "[CV] END contamination=0.00039214464853521813, support_fraction=0.9936636184329369; total time=  51.4s\n",
            "[CV] END contamination=0.00039214464853521813, support_fraction=0.9936636184329369; total time=  58.3s\n",
            "[CV] END contamination=0.00039214464853521813, support_fraction=0.9936636184329369; total time=  51.9s\n",
            "[CV] END contamination=0.00039214464853521813, support_fraction=0.9936636184329369; total time=  48.3s\n",
            "[CV] END contamination=0.000556069984217036, support_fraction=0.9978517596139301; total time=  41.1s\n",
            "[CV] END contamination=0.000556069984217036, support_fraction=0.9978517596139301; total time=  41.1s\n",
            "[CV] END contamination=0.000556069984217036, support_fraction=0.9978517596139301; total time=  40.8s\n",
            "[CV] END contamination=0.000556069984217036, support_fraction=0.9978517596139301; total time=  39.6s\n",
            "[CV] END contamination=0.000556069984217036, support_fraction=0.9978517596139301; total time=  36.5s\n",
            "[CV] END contamination=0.00029967378215835976, support_fraction=0.9951423443841361; total time=  53.8s\n",
            "[CV] END contamination=0.00029967378215835976, support_fraction=0.9951423443841361; total time=  46.4s\n",
            "[CV] END contamination=0.00029967378215835976, support_fraction=0.9951423443841361; total time=  51.9s\n",
            "[CV] END contamination=0.00029967378215835976, support_fraction=0.9951423443841361; total time=  46.1s\n",
            "[CV] END contamination=0.00029967378215835976, support_fraction=0.9951423443841361; total time=  44.7s\n",
            "[CV] END contamination=0.0006924145688620426, support_fraction=0.9904645041272; total time= 1.0min\n",
            "[CV] END contamination=0.0006924145688620426, support_fraction=0.9904645041272; total time= 1.0min\n",
            "[CV] END contamination=0.0006924145688620426, support_fraction=0.9904645041272; total time=  59.7s\n",
            "[CV] END contamination=0.0006924145688620426, support_fraction=0.9904645041272; total time= 1.0min\n",
            "[CV] END contamination=0.0006924145688620426, support_fraction=0.9904645041272; total time=  53.1s\n",
            "[CV] END contamination=0.0007075448519014384, support_fraction=0.9917052412368729; total time=  56.8s\n",
            "[CV] END contamination=0.0007075448519014384, support_fraction=0.9917052412368729; total time=  57.6s\n",
            "[CV] END contamination=0.0007075448519014384, support_fraction=0.9917052412368729; total time=  57.6s\n",
            "[CV] END contamination=0.0007075448519014384, support_fraction=0.9917052412368729; total time=  56.3s\n",
            "[CV] END contamination=0.0007075448519014384, support_fraction=0.9917052412368729; total time=  49.9s\n",
            "[CV] END contamination=0.00016505159298527952, support_fraction=0.9994888553725333; total time=  36.5s\n",
            "[CV] END contamination=0.00016505159298527952, support_fraction=0.9994888553725333; total time=  33.3s\n",
            "[CV] END contamination=0.00016505159298527952, support_fraction=0.9994888553725333; total time=  39.8s\n",
            "[CV] END contamination=0.00016505159298527952, support_fraction=0.9994888553725333; total time=  37.2s\n",
            "[CV] END contamination=0.00016505159298527952, support_fraction=0.9994888553725333; total time=  35.4s\n",
            "[CV] END contamination=0.0010656320330745593, support_fraction=0.9980839734811646; total time=  37.4s\n",
            "[CV] END contamination=0.0010656320330745593, support_fraction=0.9980839734811646; total time=  35.1s\n",
            "[CV] END contamination=0.0010656320330745593, support_fraction=0.9980839734811646; total time=  38.9s\n",
            "[CV] END contamination=0.0010656320330745593, support_fraction=0.9980839734811646; total time=  39.3s\n",
            "[CV] END contamination=0.0010656320330745593, support_fraction=0.9980839734811646; total time=  42.9s\n",
            "[CV] END contamination=0.0004046137691733707, support_fraction=0.9909767211400639; total time=  54.2s\n",
            "[CV] END contamination=0.0004046137691733707, support_fraction=0.9909767211400639; total time=  54.6s\n",
            "[CV] END contamination=0.0004046137691733707, support_fraction=0.9909767211400639; total time=  57.4s\n",
            "[CV] END contamination=0.0004046137691733707, support_fraction=0.9909767211400639; total time=  55.4s\n",
            "[CV] END contamination=0.0004046137691733707, support_fraction=0.9909767211400639; total time=  48.8s\n",
            "[CV] END contamination=0.0007842330265121569, support_fraction=0.994401524937396; total time=  52.4s\n",
            "[CV] END contamination=0.0007842330265121569, support_fraction=0.994401524937396; total time=  48.4s\n",
            "[CV] END contamination=0.0007842330265121569, support_fraction=0.994401524937396; total time=  50.8s\n",
            "[CV] END contamination=0.0007842330265121569, support_fraction=0.994401524937396; total time=  48.3s\n",
            "[CV] END contamination=0.0007842330265121569, support_fraction=0.994401524937396; total time=  48.3s\n",
            "Best parameters: {'contamination': 0.0004745401188473625, 'support_fraction': 0.9995071430640992}\n",
            "Best score: nan\n"
          ]
        }
      ]
    },
    {
      "cell_type": "code",
      "source": [
        "model = EllipticEnvelope(support_fraction = 0.9995071430640992, contamination = 0.0004745401188473625, random_state = 42)\n",
        "model.fit(train_x)\n",
        "val_x = val_df.drop(columns=['ID', 'Class']) # Input Data\n",
        "val_y = val_df['Class'] # Label\n",
        "\n",
        "val_pred = model.predict(val_x) # model prediction\n",
        "val_pred = get_pred_label(val_pred)\n",
        "val_score = f1_score(val_y, val_pred, average='macro')\n",
        "print(f'Validation F1 Score : [{val_score}]')\n",
        "print(classification_report(val_y, val_pred))"
      ],
      "metadata": {
        "colab": {
          "base_uri": "https://localhost:8080/"
        },
        "id": "ouxOULGFCuOp",
        "outputId": "ed2b0e27-dc95-4535-94e5-697c4f443806"
      },
      "id": "ouxOULGFCuOp",
      "execution_count": 22,
      "outputs": [
        {
          "output_type": "stream",
          "name": "stdout",
          "text": [
            "Validation F1 Score : [0.7887218676684034]\n",
            "              precision    recall  f1-score   support\n",
            "\n",
            "           0       1.00      1.00      1.00     28432\n",
            "           1       0.87      0.43      0.58        30\n",
            "\n",
            "    accuracy                           1.00     28462\n",
            "   macro avg       0.93      0.72      0.79     28462\n",
            "weighted avg       1.00      1.00      1.00     28462\n",
            "\n"
          ]
        }
      ]
    },
    {
      "cell_type": "markdown",
      "source": [
        "## test"
      ],
      "metadata": {
        "id": "4B0kO5wtV6uA"
      },
      "id": "4B0kO5wtV6uA"
    },
    {
      "cell_type": "code",
      "source": [
        "test_x = test.drop(columns=['ID'])"
      ],
      "metadata": {
        "id": "BqOQT3k5TyBB"
      },
      "id": "BqOQT3k5TyBB",
      "execution_count": 24,
      "outputs": []
    },
    {
      "cell_type": "code",
      "source": [
        "#best model : model \"EllipticEnvelope\"\n",
        "test_pred = model.predict(test_x) # model prediction\n",
        "test_pred = get_pred_label(test_pred)"
      ],
      "metadata": {
        "id": "cinR2nmwTUOH"
      },
      "id": "cinR2nmwTUOH",
      "execution_count": 25,
      "outputs": []
    },
    {
      "cell_type": "markdown",
      "source": [
        "## submission"
      ],
      "metadata": {
        "id": "oHE8Gr6EV-mK"
      },
      "id": "oHE8Gr6EV-mK"
    },
    {
      "cell_type": "code",
      "source": [
        "submit = pd.read_csv('./drive/MyDrive/신용카드 사기 데이콘/open/sample_submission.csv')\n",
        "submit.head()"
      ],
      "metadata": {
        "colab": {
          "base_uri": "https://localhost:8080/",
          "height": 206
        },
        "id": "rE3uJnhaT20s",
        "outputId": "54bf7d75-2c33-4dbd-fbde-b6e59fdbef67"
      },
      "id": "rE3uJnhaT20s",
      "execution_count": 26,
      "outputs": [
        {
          "output_type": "execute_result",
          "data": {
            "text/plain": [
              "        ID  Class\n",
              "0  AAAA0x1      1\n",
              "1  AAAA0x2      1\n",
              "2  AAAA0x5      1\n",
              "3  AAAA0x7      1\n",
              "4  AAAA0xc      1"
            ],
            "text/html": [
              "\n",
              "  <div id=\"df-dcd9307a-f474-42d4-be10-653876830388\">\n",
              "    <div class=\"colab-df-container\">\n",
              "      <div>\n",
              "<style scoped>\n",
              "    .dataframe tbody tr th:only-of-type {\n",
              "        vertical-align: middle;\n",
              "    }\n",
              "\n",
              "    .dataframe tbody tr th {\n",
              "        vertical-align: top;\n",
              "    }\n",
              "\n",
              "    .dataframe thead th {\n",
              "        text-align: right;\n",
              "    }\n",
              "</style>\n",
              "<table border=\"1\" class=\"dataframe\">\n",
              "  <thead>\n",
              "    <tr style=\"text-align: right;\">\n",
              "      <th></th>\n",
              "      <th>ID</th>\n",
              "      <th>Class</th>\n",
              "    </tr>\n",
              "  </thead>\n",
              "  <tbody>\n",
              "    <tr>\n",
              "      <th>0</th>\n",
              "      <td>AAAA0x1</td>\n",
              "      <td>1</td>\n",
              "    </tr>\n",
              "    <tr>\n",
              "      <th>1</th>\n",
              "      <td>AAAA0x2</td>\n",
              "      <td>1</td>\n",
              "    </tr>\n",
              "    <tr>\n",
              "      <th>2</th>\n",
              "      <td>AAAA0x5</td>\n",
              "      <td>1</td>\n",
              "    </tr>\n",
              "    <tr>\n",
              "      <th>3</th>\n",
              "      <td>AAAA0x7</td>\n",
              "      <td>1</td>\n",
              "    </tr>\n",
              "    <tr>\n",
              "      <th>4</th>\n",
              "      <td>AAAA0xc</td>\n",
              "      <td>1</td>\n",
              "    </tr>\n",
              "  </tbody>\n",
              "</table>\n",
              "</div>\n",
              "      <button class=\"colab-df-convert\" onclick=\"convertToInteractive('df-dcd9307a-f474-42d4-be10-653876830388')\"\n",
              "              title=\"Convert this dataframe to an interactive table.\"\n",
              "              style=\"display:none;\">\n",
              "        \n",
              "  <svg xmlns=\"http://www.w3.org/2000/svg\" height=\"24px\"viewBox=\"0 0 24 24\"\n",
              "       width=\"24px\">\n",
              "    <path d=\"M0 0h24v24H0V0z\" fill=\"none\"/>\n",
              "    <path d=\"M18.56 5.44l.94 2.06.94-2.06 2.06-.94-2.06-.94-.94-2.06-.94 2.06-2.06.94zm-11 1L8.5 8.5l.94-2.06 2.06-.94-2.06-.94L8.5 2.5l-.94 2.06-2.06.94zm10 10l.94 2.06.94-2.06 2.06-.94-2.06-.94-.94-2.06-.94 2.06-2.06.94z\"/><path d=\"M17.41 7.96l-1.37-1.37c-.4-.4-.92-.59-1.43-.59-.52 0-1.04.2-1.43.59L10.3 9.45l-7.72 7.72c-.78.78-.78 2.05 0 2.83L4 21.41c.39.39.9.59 1.41.59.51 0 1.02-.2 1.41-.59l7.78-7.78 2.81-2.81c.8-.78.8-2.07 0-2.86zM5.41 20L4 18.59l7.72-7.72 1.47 1.35L5.41 20z\"/>\n",
              "  </svg>\n",
              "      </button>\n",
              "      \n",
              "  <style>\n",
              "    .colab-df-container {\n",
              "      display:flex;\n",
              "      flex-wrap:wrap;\n",
              "      gap: 12px;\n",
              "    }\n",
              "\n",
              "    .colab-df-convert {\n",
              "      background-color: #E8F0FE;\n",
              "      border: none;\n",
              "      border-radius: 50%;\n",
              "      cursor: pointer;\n",
              "      display: none;\n",
              "      fill: #1967D2;\n",
              "      height: 32px;\n",
              "      padding: 0 0 0 0;\n",
              "      width: 32px;\n",
              "    }\n",
              "\n",
              "    .colab-df-convert:hover {\n",
              "      background-color: #E2EBFA;\n",
              "      box-shadow: 0px 1px 2px rgba(60, 64, 67, 0.3), 0px 1px 3px 1px rgba(60, 64, 67, 0.15);\n",
              "      fill: #174EA6;\n",
              "    }\n",
              "\n",
              "    [theme=dark] .colab-df-convert {\n",
              "      background-color: #3B4455;\n",
              "      fill: #D2E3FC;\n",
              "    }\n",
              "\n",
              "    [theme=dark] .colab-df-convert:hover {\n",
              "      background-color: #434B5C;\n",
              "      box-shadow: 0px 1px 3px 1px rgba(0, 0, 0, 0.15);\n",
              "      filter: drop-shadow(0px 1px 2px rgba(0, 0, 0, 0.3));\n",
              "      fill: #FFFFFF;\n",
              "    }\n",
              "  </style>\n",
              "\n",
              "      <script>\n",
              "        const buttonEl =\n",
              "          document.querySelector('#df-dcd9307a-f474-42d4-be10-653876830388 button.colab-df-convert');\n",
              "        buttonEl.style.display =\n",
              "          google.colab.kernel.accessAllowed ? 'block' : 'none';\n",
              "\n",
              "        async function convertToInteractive(key) {\n",
              "          const element = document.querySelector('#df-dcd9307a-f474-42d4-be10-653876830388');\n",
              "          const dataTable =\n",
              "            await google.colab.kernel.invokeFunction('convertToInteractive',\n",
              "                                                     [key], {});\n",
              "          if (!dataTable) return;\n",
              "\n",
              "          const docLinkHtml = 'Like what you see? Visit the ' +\n",
              "            '<a target=\"_blank\" href=https://colab.research.google.com/notebooks/data_table.ipynb>data table notebook</a>'\n",
              "            + ' to learn more about interactive tables.';\n",
              "          element.innerHTML = '';\n",
              "          dataTable['output_type'] = 'display_data';\n",
              "          await google.colab.output.renderOutput(dataTable, element);\n",
              "          const docLink = document.createElement('div');\n",
              "          docLink.innerHTML = docLinkHtml;\n",
              "          element.appendChild(docLink);\n",
              "        }\n",
              "      </script>\n",
              "    </div>\n",
              "  </div>\n",
              "  "
            ]
          },
          "metadata": {},
          "execution_count": 26
        }
      ]
    },
    {
      "cell_type": "code",
      "source": [
        "submit['Class'] = test_pred\n",
        "submit.to_csv('./drive/MyDrive/신용카드 사기 데이콘/open/elliptic_randomizedsearch_submit.csv', index=False)"
      ],
      "metadata": {
        "id": "B5WvalaYT52W"
      },
      "id": "B5WvalaYT52W",
      "execution_count": 27,
      "outputs": []
    }
  ],
  "metadata": {
    "accelerator": "GPU",
    "colab": {
      "machine_shape": "hm",
      "provenance": []
    },
    "gpuClass": "standard",
    "kernelspec": {
      "display_name": "Python 3 (ipykernel)",
      "language": "python",
      "name": "python3"
    },
    "language_info": {
      "codemirror_mode": {
        "name": "ipython",
        "version": 3
      },
      "file_extension": ".py",
      "mimetype": "text/x-python",
      "name": "python",
      "nbconvert_exporter": "python",
      "pygments_lexer": "ipython3",
      "version": "3.9.7"
    },
    "varInspector": {
      "cols": {
        "lenName": 16,
        "lenType": 16,
        "lenVar": 40
      },
      "kernels_config": {
        "python": {
          "delete_cmd_postfix": "",
          "delete_cmd_prefix": "del ",
          "library": "var_list.py",
          "varRefreshCmd": "print(var_dic_list())"
        },
        "r": {
          "delete_cmd_postfix": ") ",
          "delete_cmd_prefix": "rm(",
          "library": "var_list.r",
          "varRefreshCmd": "cat(var_dic_list()) "
        }
      },
      "types_to_exclude": [
        "module",
        "function",
        "builtin_function_or_method",
        "instance",
        "_Feature"
      ],
      "window_display": false
    }
  },
  "nbformat": 4,
  "nbformat_minor": 5
}