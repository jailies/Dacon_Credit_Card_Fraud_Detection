{
  "cells": [
    {
      "cell_type": "code",
      "execution_count": 1,
      "id": "1sbYGESQLYai",
      "metadata": {
        "colab": {
          "base_uri": "https://localhost:8080/"
        },
        "id": "1sbYGESQLYai",
        "outputId": "4ae22660-8b72-4c65-8a3a-f3a5c0f3f84c"
      },
      "outputs": [
        {
          "output_type": "stream",
          "name": "stdout",
          "text": [
            "Mounted at /content/drive\n"
          ]
        }
      ],
      "source": [
        "from google.colab import drive\n",
        "drive.mount('/content/drive')"
      ]
    },
    {
      "cell_type": "markdown",
      "source": [
        "## 시드고정"
      ],
      "metadata": {
        "id": "TZHRvAOUVksG"
      },
      "id": "TZHRvAOUVksG"
    },
    {
      "cell_type": "code",
      "source": [
        "import random\n",
        "import os\n",
        "import numpy as np\n",
        "import torch\n",
        "def seed_everything(seed):\n",
        "    random.seed(seed)\n",
        "    os.environ['PYTHONHASHSEED'] = str(seed)\n",
        "    np.random.seed(seed)\n",
        "    torch.manual_seed(seed)\n",
        "    torch.cuda.manual_seed(seed)\n",
        "    torch.backends.cudnn.deterministic = True\n",
        "    torch.backends.cudnn.benchmark = True\n",
        "\n",
        "seed_everything(41) # Seed 고정"
      ],
      "metadata": {
        "id": "h9_i0pkWN8E-"
      },
      "id": "h9_i0pkWN8E-",
      "execution_count": 27,
      "outputs": []
    },
    {
      "cell_type": "markdown",
      "id": "a2bcba5f-002e-4f49-9622-ada6117faf0a",
      "metadata": {
        "id": "a2bcba5f-002e-4f49-9622-ada6117faf0a"
      },
      "source": [
        "## Import"
      ]
    },
    {
      "cell_type": "code",
      "source": [
        "import pandas as pd\n",
        "import numpy as np\n",
        "\n",
        "from sklearn.ensemble import IsolationForest\n",
        "from sklearn.metrics import f1_score\n",
        "from sklearn.metrics import classification_report\n",
        "\n",
        "import matplotlib.pyplot as plt\n",
        "\n",
        "import warnings\n",
        "warnings.filterwarnings(action='ignore')"
      ],
      "metadata": {
        "id": "lvrnO3SgStYn"
      },
      "id": "lvrnO3SgStYn",
      "execution_count": 28,
      "outputs": []
    },
    {
      "cell_type": "code",
      "source": [
        "train_df = pd.read_csv('./drive/MyDrive/신용카드 사기 데이콘/open/train.csv')\n",
        "val_df = pd.read_csv('./drive/MyDrive/신용카드 사기 데이콘/open/val.csv')\n",
        "test = pd.read_csv('./drive/MyDrive/신용카드 사기 데이콘/open/test.csv')\n",
        "\n",
        "print(train_df.shape, val_df.shape, test.shape)"
      ],
      "metadata": {
        "colab": {
          "base_uri": "https://localhost:8080/"
        },
        "id": "YncBj4Y_R8-7",
        "outputId": "c17b9890-ab8a-46e9-c553-8fecb58a74b9"
      },
      "id": "YncBj4Y_R8-7",
      "execution_count": 29,
      "outputs": [
        {
          "output_type": "stream",
          "name": "stdout",
          "text": [
            "(113842, 31) (28462, 32) (142503, 31)\n"
          ]
        }
      ]
    },
    {
      "cell_type": "code",
      "source": [
        "from sklearn import svm\n",
        "from sklearn.datasets import make_moons, make_blobs\n",
        "from sklearn.covariance import EllipticEnvelope\n",
        "from sklearn.ensemble import IsolationForest\n",
        "from sklearn.neighbors import LocalOutlierFactor\n",
        "from sklearn.linear_model import SGDOneClassSVM\n",
        "from sklearn.kernel_approximation import Nystroem\n",
        "from sklearn.pipeline import make_pipeline\n"
      ],
      "metadata": {
        "id": "Z0_sk7n2TCgV"
      },
      "id": "Z0_sk7n2TCgV",
      "execution_count": 30,
      "outputs": []
    },
    {
      "cell_type": "code",
      "source": [
        "from sklearn.metrics import f1_score, confusion_matrix, classification_report, precision_recall_fscore_support\n",
        "from sklearn.preprocessing import StandardScaler\n",
        "from sklearn.covariance import EllipticEnvelope"
      ],
      "metadata": {
        "id": "URYLbXCBZGR3"
      },
      "id": "URYLbXCBZGR3",
      "execution_count": 31,
      "outputs": []
    },
    {
      "cell_type": "code",
      "source": [
        "# Train dataset은 Label이 존재하지 않음\n",
        "train_df = train_df.drop(columns=['ID']) # Input Data"
      ],
      "metadata": {
        "id": "XkR2v3OTb639"
      },
      "id": "XkR2v3OTb639",
      "execution_count": 32,
      "outputs": []
    },
    {
      "cell_type": "code",
      "source": [
        "from sklearn.preprocessing import StandardScaler\n",
        "# StandardScaler 선언 및 Fitting\n",
        "sdscaler = StandardScaler()\n",
        "sdscaler.fit(train_df)\n",
        "\n",
        "# 데이터 변환\n",
        "sdscaled_data = sdscaler.transform(train_df)\n",
        "\n",
        "# 데이터 프레임으로 저장\n",
        "sdscaled_data = pd.DataFrame(sdscaled_data)"
      ],
      "metadata": {
        "id": "DRJkUaCZZ8-R"
      },
      "id": "DRJkUaCZZ8-R",
      "execution_count": 33,
      "outputs": []
    },
    {
      "cell_type": "code",
      "source": [
        "sdscaled_data"
      ],
      "metadata": {
        "colab": {
          "base_uri": "https://localhost:8080/",
          "height": 488
        },
        "id": "vnRXPljsaJy0",
        "outputId": "75391cfe-fc1a-4dd2-da78-7467ea55e61b"
      },
      "id": "vnRXPljsaJy0",
      "execution_count": 34,
      "outputs": [
        {
          "output_type": "execute_result",
          "data": {
            "text/plain": [
              "              0         1         2         3         4         5         6   \\\n",
              "0      -0.696317 -0.812481  1.178089  0.271798 -0.368309  1.349308  0.652511   \n",
              "1      -0.495358 -0.112967  1.191305 -0.608173 -0.007886  0.933476  0.192541   \n",
              "2      -0.218427  0.580982  0.755819 -0.116154  0.307498 -0.026206  0.390690   \n",
              "3      -0.330318  0.858041  0.711241 -0.345477  0.693558  0.317890  0.925884   \n",
              "4      -0.458462  0.172537 -0.082109 -0.189262  1.951788  2.793282  0.302611   \n",
              "...          ...       ...       ...       ...       ...       ...       ...   \n",
              "113837 -6.415477  6.169704 -5.669274 -1.774215 -3.354334 -1.051879 -3.021567   \n",
              "113838  0.965967 -0.087719 -0.674497  1.069597 -0.026160 -0.465046  0.153202   \n",
              "113839 -0.124097  0.430608  0.260596 -0.325094  0.178465 -1.013702  0.767042   \n",
              "113840  0.061566  0.563104 -0.371251 -0.524503  0.826191 -0.181210  0.670168   \n",
              "113841 -6.089697  6.099426 -6.576552 -1.460036 -3.923101 -1.963042 -4.089330   \n",
              "\n",
              "              7         8         9   ...        20        21        22  \\\n",
              "0       0.210988 -1.380804  0.188955  ...  0.345210  1.066111  1.431834   \n",
              "1       0.320444 -1.264291 -0.056156  ... -0.148280  0.007285 -0.297148   \n",
              "2       0.221649 -0.517216 -0.351540  ... -0.286720 -0.773425 -0.039431   \n",
              "3      -3.209968  0.563699  1.161326  ...  2.693508 -1.402900  0.092477   \n",
              "4       0.719980 -0.355977 -0.387965  ... -0.099976 -0.370382 -0.319020   \n",
              "...          ...       ...       ...  ...       ...       ...       ...   \n",
              "113837  4.640268  4.468824  8.074160  ... -1.306812 -2.162159  1.402375   \n",
              "113838 -0.208020  0.610333  0.107995  ...  0.201179  0.876793 -0.064140   \n",
              "113839 -0.171877  0.098905 -0.270613  ... -0.315282 -0.710635  0.441651   \n",
              "113840  0.099151 -0.184366 -0.618512  ... -0.433467 -1.117010  0.081219   \n",
              "113841  6.164311  1.749605  4.061261  ...  0.297364  0.154545  1.597020   \n",
              "\n",
              "              23        24        25        26        27        28        29  \n",
              "0      -1.136246 -0.633230 -0.288586 -0.137969 -0.166355  1.188563 -1.990839  \n",
              "1      -1.938909  1.241563 -0.460803  0.157587  0.173998  0.143876 -1.990839  \n",
              "2      -0.611606 -0.450853  0.220818  0.635984  0.229098 -0.346737 -1.990818  \n",
              "3      -1.070930 -0.801717 -0.106743 -3.020466 -3.046182 -0.194717 -1.990712  \n",
              "4       1.671161  0.714378 -0.798093  0.029990  0.401295  0.019821 -1.990712  \n",
              "...          ...       ...       ...       ...       ...       ...       ...  \n",
              "113837 -2.067159  3.432320  0.667510  5.233857  3.463283 -0.321352  1.645815  \n",
              "113838 -0.086360  0.605158 -0.958774  0.046304 -0.113892 -0.116108  1.645857  \n",
              "113839  0.614549 -1.078550  0.235849  0.329761  0.229617 -0.339285  1.645899  \n",
              "113840  0.171137 -0.841334  0.258583  0.546111  0.194625 -0.350749  1.645962  \n",
              "113841 -0.839255  2.759503  0.520457  2.362643  2.314445 -0.358610  1.645983  \n",
              "\n",
              "[113842 rows x 30 columns]"
            ],
            "text/html": [
              "\n",
              "  <div id=\"df-b719560f-77d0-48ed-b127-0868c6e85ba9\">\n",
              "    <div class=\"colab-df-container\">\n",
              "      <div>\n",
              "<style scoped>\n",
              "    .dataframe tbody tr th:only-of-type {\n",
              "        vertical-align: middle;\n",
              "    }\n",
              "\n",
              "    .dataframe tbody tr th {\n",
              "        vertical-align: top;\n",
              "    }\n",
              "\n",
              "    .dataframe thead th {\n",
              "        text-align: right;\n",
              "    }\n",
              "</style>\n",
              "<table border=\"1\" class=\"dataframe\">\n",
              "  <thead>\n",
              "    <tr style=\"text-align: right;\">\n",
              "      <th></th>\n",
              "      <th>0</th>\n",
              "      <th>1</th>\n",
              "      <th>2</th>\n",
              "      <th>3</th>\n",
              "      <th>4</th>\n",
              "      <th>5</th>\n",
              "      <th>6</th>\n",
              "      <th>7</th>\n",
              "      <th>8</th>\n",
              "      <th>9</th>\n",
              "      <th>...</th>\n",
              "      <th>20</th>\n",
              "      <th>21</th>\n",
              "      <th>22</th>\n",
              "      <th>23</th>\n",
              "      <th>24</th>\n",
              "      <th>25</th>\n",
              "      <th>26</th>\n",
              "      <th>27</th>\n",
              "      <th>28</th>\n",
              "      <th>29</th>\n",
              "    </tr>\n",
              "  </thead>\n",
              "  <tbody>\n",
              "    <tr>\n",
              "      <th>0</th>\n",
              "      <td>-0.696317</td>\n",
              "      <td>-0.812481</td>\n",
              "      <td>1.178089</td>\n",
              "      <td>0.271798</td>\n",
              "      <td>-0.368309</td>\n",
              "      <td>1.349308</td>\n",
              "      <td>0.652511</td>\n",
              "      <td>0.210988</td>\n",
              "      <td>-1.380804</td>\n",
              "      <td>0.188955</td>\n",
              "      <td>...</td>\n",
              "      <td>0.345210</td>\n",
              "      <td>1.066111</td>\n",
              "      <td>1.431834</td>\n",
              "      <td>-1.136246</td>\n",
              "      <td>-0.633230</td>\n",
              "      <td>-0.288586</td>\n",
              "      <td>-0.137969</td>\n",
              "      <td>-0.166355</td>\n",
              "      <td>1.188563</td>\n",
              "      <td>-1.990839</td>\n",
              "    </tr>\n",
              "    <tr>\n",
              "      <th>1</th>\n",
              "      <td>-0.495358</td>\n",
              "      <td>-0.112967</td>\n",
              "      <td>1.191305</td>\n",
              "      <td>-0.608173</td>\n",
              "      <td>-0.007886</td>\n",
              "      <td>0.933476</td>\n",
              "      <td>0.192541</td>\n",
              "      <td>0.320444</td>\n",
              "      <td>-1.264291</td>\n",
              "      <td>-0.056156</td>\n",
              "      <td>...</td>\n",
              "      <td>-0.148280</td>\n",
              "      <td>0.007285</td>\n",
              "      <td>-0.297148</td>\n",
              "      <td>-1.938909</td>\n",
              "      <td>1.241563</td>\n",
              "      <td>-0.460803</td>\n",
              "      <td>0.157587</td>\n",
              "      <td>0.173998</td>\n",
              "      <td>0.143876</td>\n",
              "      <td>-1.990839</td>\n",
              "    </tr>\n",
              "    <tr>\n",
              "      <th>2</th>\n",
              "      <td>-0.218427</td>\n",
              "      <td>0.580982</td>\n",
              "      <td>0.755819</td>\n",
              "      <td>-0.116154</td>\n",
              "      <td>0.307498</td>\n",
              "      <td>-0.026206</td>\n",
              "      <td>0.390690</td>\n",
              "      <td>0.221649</td>\n",
              "      <td>-0.517216</td>\n",
              "      <td>-0.351540</td>\n",
              "      <td>...</td>\n",
              "      <td>-0.286720</td>\n",
              "      <td>-0.773425</td>\n",
              "      <td>-0.039431</td>\n",
              "      <td>-0.611606</td>\n",
              "      <td>-0.450853</td>\n",
              "      <td>0.220818</td>\n",
              "      <td>0.635984</td>\n",
              "      <td>0.229098</td>\n",
              "      <td>-0.346737</td>\n",
              "      <td>-1.990818</td>\n",
              "    </tr>\n",
              "    <tr>\n",
              "      <th>3</th>\n",
              "      <td>-0.330318</td>\n",
              "      <td>0.858041</td>\n",
              "      <td>0.711241</td>\n",
              "      <td>-0.345477</td>\n",
              "      <td>0.693558</td>\n",
              "      <td>0.317890</td>\n",
              "      <td>0.925884</td>\n",
              "      <td>-3.209968</td>\n",
              "      <td>0.563699</td>\n",
              "      <td>1.161326</td>\n",
              "      <td>...</td>\n",
              "      <td>2.693508</td>\n",
              "      <td>-1.402900</td>\n",
              "      <td>0.092477</td>\n",
              "      <td>-1.070930</td>\n",
              "      <td>-0.801717</td>\n",
              "      <td>-0.106743</td>\n",
              "      <td>-3.020466</td>\n",
              "      <td>-3.046182</td>\n",
              "      <td>-0.194717</td>\n",
              "      <td>-1.990712</td>\n",
              "    </tr>\n",
              "    <tr>\n",
              "      <th>4</th>\n",
              "      <td>-0.458462</td>\n",
              "      <td>0.172537</td>\n",
              "      <td>-0.082109</td>\n",
              "      <td>-0.189262</td>\n",
              "      <td>1.951788</td>\n",
              "      <td>2.793282</td>\n",
              "      <td>0.302611</td>\n",
              "      <td>0.719980</td>\n",
              "      <td>-0.355977</td>\n",
              "      <td>-0.387965</td>\n",
              "      <td>...</td>\n",
              "      <td>-0.099976</td>\n",
              "      <td>-0.370382</td>\n",
              "      <td>-0.319020</td>\n",
              "      <td>1.671161</td>\n",
              "      <td>0.714378</td>\n",
              "      <td>-0.798093</td>\n",
              "      <td>0.029990</td>\n",
              "      <td>0.401295</td>\n",
              "      <td>0.019821</td>\n",
              "      <td>-1.990712</td>\n",
              "    </tr>\n",
              "    <tr>\n",
              "      <th>...</th>\n",
              "      <td>...</td>\n",
              "      <td>...</td>\n",
              "      <td>...</td>\n",
              "      <td>...</td>\n",
              "      <td>...</td>\n",
              "      <td>...</td>\n",
              "      <td>...</td>\n",
              "      <td>...</td>\n",
              "      <td>...</td>\n",
              "      <td>...</td>\n",
              "      <td>...</td>\n",
              "      <td>...</td>\n",
              "      <td>...</td>\n",
              "      <td>...</td>\n",
              "      <td>...</td>\n",
              "      <td>...</td>\n",
              "      <td>...</td>\n",
              "      <td>...</td>\n",
              "      <td>...</td>\n",
              "      <td>...</td>\n",
              "      <td>...</td>\n",
              "    </tr>\n",
              "    <tr>\n",
              "      <th>113837</th>\n",
              "      <td>-6.415477</td>\n",
              "      <td>6.169704</td>\n",
              "      <td>-5.669274</td>\n",
              "      <td>-1.774215</td>\n",
              "      <td>-3.354334</td>\n",
              "      <td>-1.051879</td>\n",
              "      <td>-3.021567</td>\n",
              "      <td>4.640268</td>\n",
              "      <td>4.468824</td>\n",
              "      <td>8.074160</td>\n",
              "      <td>...</td>\n",
              "      <td>-1.306812</td>\n",
              "      <td>-2.162159</td>\n",
              "      <td>1.402375</td>\n",
              "      <td>-2.067159</td>\n",
              "      <td>3.432320</td>\n",
              "      <td>0.667510</td>\n",
              "      <td>5.233857</td>\n",
              "      <td>3.463283</td>\n",
              "      <td>-0.321352</td>\n",
              "      <td>1.645815</td>\n",
              "    </tr>\n",
              "    <tr>\n",
              "      <th>113838</th>\n",
              "      <td>0.965967</td>\n",
              "      <td>-0.087719</td>\n",
              "      <td>-0.674497</td>\n",
              "      <td>1.069597</td>\n",
              "      <td>-0.026160</td>\n",
              "      <td>-0.465046</td>\n",
              "      <td>0.153202</td>\n",
              "      <td>-0.208020</td>\n",
              "      <td>0.610333</td>\n",
              "      <td>0.107995</td>\n",
              "      <td>...</td>\n",
              "      <td>0.201179</td>\n",
              "      <td>0.876793</td>\n",
              "      <td>-0.064140</td>\n",
              "      <td>-0.086360</td>\n",
              "      <td>0.605158</td>\n",
              "      <td>-0.958774</td>\n",
              "      <td>0.046304</td>\n",
              "      <td>-0.113892</td>\n",
              "      <td>-0.116108</td>\n",
              "      <td>1.645857</td>\n",
              "    </tr>\n",
              "    <tr>\n",
              "      <th>113839</th>\n",
              "      <td>-0.124097</td>\n",
              "      <td>0.430608</td>\n",
              "      <td>0.260596</td>\n",
              "      <td>-0.325094</td>\n",
              "      <td>0.178465</td>\n",
              "      <td>-1.013702</td>\n",
              "      <td>0.767042</td>\n",
              "      <td>-0.171877</td>\n",
              "      <td>0.098905</td>\n",
              "      <td>-0.270613</td>\n",
              "      <td>...</td>\n",
              "      <td>-0.315282</td>\n",
              "      <td>-0.710635</td>\n",
              "      <td>0.441651</td>\n",
              "      <td>0.614549</td>\n",
              "      <td>-1.078550</td>\n",
              "      <td>0.235849</td>\n",
              "      <td>0.329761</td>\n",
              "      <td>0.229617</td>\n",
              "      <td>-0.339285</td>\n",
              "      <td>1.645899</td>\n",
              "    </tr>\n",
              "    <tr>\n",
              "      <th>113840</th>\n",
              "      <td>0.061566</td>\n",
              "      <td>0.563104</td>\n",
              "      <td>-0.371251</td>\n",
              "      <td>-0.524503</td>\n",
              "      <td>0.826191</td>\n",
              "      <td>-0.181210</td>\n",
              "      <td>0.670168</td>\n",
              "      <td>0.099151</td>\n",
              "      <td>-0.184366</td>\n",
              "      <td>-0.618512</td>\n",
              "      <td>...</td>\n",
              "      <td>-0.433467</td>\n",
              "      <td>-1.117010</td>\n",
              "      <td>0.081219</td>\n",
              "      <td>0.171137</td>\n",
              "      <td>-0.841334</td>\n",
              "      <td>0.258583</td>\n",
              "      <td>0.546111</td>\n",
              "      <td>0.194625</td>\n",
              "      <td>-0.350749</td>\n",
              "      <td>1.645962</td>\n",
              "    </tr>\n",
              "    <tr>\n",
              "      <th>113841</th>\n",
              "      <td>-6.089697</td>\n",
              "      <td>6.099426</td>\n",
              "      <td>-6.576552</td>\n",
              "      <td>-1.460036</td>\n",
              "      <td>-3.923101</td>\n",
              "      <td>-1.963042</td>\n",
              "      <td>-4.089330</td>\n",
              "      <td>6.164311</td>\n",
              "      <td>1.749605</td>\n",
              "      <td>4.061261</td>\n",
              "      <td>...</td>\n",
              "      <td>0.297364</td>\n",
              "      <td>0.154545</td>\n",
              "      <td>1.597020</td>\n",
              "      <td>-0.839255</td>\n",
              "      <td>2.759503</td>\n",
              "      <td>0.520457</td>\n",
              "      <td>2.362643</td>\n",
              "      <td>2.314445</td>\n",
              "      <td>-0.358610</td>\n",
              "      <td>1.645983</td>\n",
              "    </tr>\n",
              "  </tbody>\n",
              "</table>\n",
              "<p>113842 rows × 30 columns</p>\n",
              "</div>\n",
              "      <button class=\"colab-df-convert\" onclick=\"convertToInteractive('df-b719560f-77d0-48ed-b127-0868c6e85ba9')\"\n",
              "              title=\"Convert this dataframe to an interactive table.\"\n",
              "              style=\"display:none;\">\n",
              "        \n",
              "  <svg xmlns=\"http://www.w3.org/2000/svg\" height=\"24px\"viewBox=\"0 0 24 24\"\n",
              "       width=\"24px\">\n",
              "    <path d=\"M0 0h24v24H0V0z\" fill=\"none\"/>\n",
              "    <path d=\"M18.56 5.44l.94 2.06.94-2.06 2.06-.94-2.06-.94-.94-2.06-.94 2.06-2.06.94zm-11 1L8.5 8.5l.94-2.06 2.06-.94-2.06-.94L8.5 2.5l-.94 2.06-2.06.94zm10 10l.94 2.06.94-2.06 2.06-.94-2.06-.94-.94-2.06-.94 2.06-2.06.94z\"/><path d=\"M17.41 7.96l-1.37-1.37c-.4-.4-.92-.59-1.43-.59-.52 0-1.04.2-1.43.59L10.3 9.45l-7.72 7.72c-.78.78-.78 2.05 0 2.83L4 21.41c.39.39.9.59 1.41.59.51 0 1.02-.2 1.41-.59l7.78-7.78 2.81-2.81c.8-.78.8-2.07 0-2.86zM5.41 20L4 18.59l7.72-7.72 1.47 1.35L5.41 20z\"/>\n",
              "  </svg>\n",
              "      </button>\n",
              "      \n",
              "  <style>\n",
              "    .colab-df-container {\n",
              "      display:flex;\n",
              "      flex-wrap:wrap;\n",
              "      gap: 12px;\n",
              "    }\n",
              "\n",
              "    .colab-df-convert {\n",
              "      background-color: #E8F0FE;\n",
              "      border: none;\n",
              "      border-radius: 50%;\n",
              "      cursor: pointer;\n",
              "      display: none;\n",
              "      fill: #1967D2;\n",
              "      height: 32px;\n",
              "      padding: 0 0 0 0;\n",
              "      width: 32px;\n",
              "    }\n",
              "\n",
              "    .colab-df-convert:hover {\n",
              "      background-color: #E2EBFA;\n",
              "      box-shadow: 0px 1px 2px rgba(60, 64, 67, 0.3), 0px 1px 3px 1px rgba(60, 64, 67, 0.15);\n",
              "      fill: #174EA6;\n",
              "    }\n",
              "\n",
              "    [theme=dark] .colab-df-convert {\n",
              "      background-color: #3B4455;\n",
              "      fill: #D2E3FC;\n",
              "    }\n",
              "\n",
              "    [theme=dark] .colab-df-convert:hover {\n",
              "      background-color: #434B5C;\n",
              "      box-shadow: 0px 1px 3px 1px rgba(0, 0, 0, 0.15);\n",
              "      filter: drop-shadow(0px 1px 2px rgba(0, 0, 0, 0.3));\n",
              "      fill: #FFFFFF;\n",
              "    }\n",
              "  </style>\n",
              "\n",
              "      <script>\n",
              "        const buttonEl =\n",
              "          document.querySelector('#df-b719560f-77d0-48ed-b127-0868c6e85ba9 button.colab-df-convert');\n",
              "        buttonEl.style.display =\n",
              "          google.colab.kernel.accessAllowed ? 'block' : 'none';\n",
              "\n",
              "        async function convertToInteractive(key) {\n",
              "          const element = document.querySelector('#df-b719560f-77d0-48ed-b127-0868c6e85ba9');\n",
              "          const dataTable =\n",
              "            await google.colab.kernel.invokeFunction('convertToInteractive',\n",
              "                                                     [key], {});\n",
              "          if (!dataTable) return;\n",
              "\n",
              "          const docLinkHtml = 'Like what you see? Visit the ' +\n",
              "            '<a target=\"_blank\" href=https://colab.research.google.com/notebooks/data_table.ipynb>data table notebook</a>'\n",
              "            + ' to learn more about interactive tables.';\n",
              "          element.innerHTML = '';\n",
              "          dataTable['output_type'] = 'display_data';\n",
              "          await google.colab.output.renderOutput(dataTable, element);\n",
              "          const docLink = document.createElement('div');\n",
              "          docLink.innerHTML = docLinkHtml;\n",
              "          element.appendChild(docLink);\n",
              "        }\n",
              "      </script>\n",
              "    </div>\n",
              "  </div>\n",
              "  "
            ]
          },
          "metadata": {},
          "execution_count": 34
        }
      ]
    },
    {
      "cell_type": "code",
      "source": [
        "def get_pred_label(model_pred):\n",
        "    # IsolationForest 모델 출력 (1:정상, -1:불량(사기)) 이므로 (0:정상, 1:불량(사기))로 Label 변환\n",
        "    model_pred = np.where(model_pred == 1, 0, model_pred)\n",
        "    model_pred = np.where(model_pred == -1, 1, model_pred)\n",
        "    return model_pred"
      ],
      "metadata": {
        "id": "HL0TnpjdTEp7"
      },
      "id": "HL0TnpjdTEp7",
      "execution_count": 35,
      "outputs": []
    },
    {
      "cell_type": "code",
      "source": [
        "val_x = val_df.drop(columns=['ID', 'Class']) # Input Data"
      ],
      "metadata": {
        "id": "BEHFgOytoV_q"
      },
      "id": "BEHFgOytoV_q",
      "execution_count": 36,
      "outputs": []
    },
    {
      "cell_type": "code",
      "source": [
        "from sklearn.preprocessing import StandardScaler\n",
        "\n",
        "# StandardScaler 선언 및 Fitting\n",
        "StandardScaler = StandardScaler()\n",
        "StandardScaler.fit(val_x)\n",
        "\n",
        "# 데이터 변환\n",
        "val_StandardScaled_data = StandardScaler.transform(val_x)\n",
        "\n",
        "# 데이터 프레임으로 저장\n",
        "val_StandardScaled_data = pd.DataFrame(val_StandardScaled_data)"
      ],
      "metadata": {
        "id": "aVmr6AAsobdy"
      },
      "id": "aVmr6AAsobdy",
      "execution_count": 37,
      "outputs": []
    },
    {
      "cell_type": "markdown",
      "source": [
        "## model define, fit"
      ],
      "metadata": {
        "id": "clzEksUNVsTW"
      },
      "id": "clzEksUNVsTW"
    },
    {
      "cell_type": "code",
      "source": [
        "model = EllipticEnvelope(support_fraction = 0.994, contamination = 0.00112, random_state = 42)\n",
        "model.fit(sdscaled_data)\n",
        "val_x = val_df.drop(columns=['ID', 'Class']) # Input Data\n",
        "val_y = val_df['Class'] # Label\n",
        "\n",
        "val_pred = model.predict(val_x) # model prediction\n",
        "val_pred = get_pred_label(val_pred)\n",
        "val_score = f1_score(val_y, val_pred, average='macro')\n",
        "print(f'Validation F1 Score : [{val_score}]')\n",
        "print(classification_report(val_y, val_pred))"
      ],
      "metadata": {
        "colab": {
          "base_uri": "https://localhost:8080/"
        },
        "id": "EK_wWQeYTGeA",
        "outputId": "b4feb1f5-6b7d-420a-c0e2-3b3f36eae929"
      },
      "id": "EK_wWQeYTGeA",
      "execution_count": 38,
      "outputs": [
        {
          "output_type": "stream",
          "name": "stdout",
          "text": [
            "Validation F1 Score : [0.9165787375726882]\n",
            "              precision    recall  f1-score   support\n",
            "\n",
            "           0       1.00      1.00      1.00     28432\n",
            "           1       0.83      0.83      0.83        30\n",
            "\n",
            "    accuracy                           1.00     28462\n",
            "   macro avg       0.92      0.92      0.92     28462\n",
            "weighted avg       1.00      1.00      1.00     28462\n",
            "\n"
          ]
        }
      ]
    },
    {
      "cell_type": "markdown",
      "source": [
        "## test"
      ],
      "metadata": {
        "id": "4B0kO5wtV6uA"
      },
      "id": "4B0kO5wtV6uA"
    },
    {
      "cell_type": "code",
      "source": [
        "test_x = test.drop(columns=['ID'])"
      ],
      "metadata": {
        "id": "BqOQT3k5TyBB"
      },
      "id": "BqOQT3k5TyBB",
      "execution_count": 39,
      "outputs": []
    },
    {
      "cell_type": "code",
      "source": [
        "from sklearn.preprocessing import StandardScaler\n",
        "\n",
        "# StandardScaler 선언 및 Fitting\n",
        "StandardScaler = StandardScaler()\n",
        "StandardScaler.fit(test_x)\n",
        "\n",
        "# 데이터 변환\n",
        "test_StandardScaled_data = StandardScaler.transform(test_x)\n",
        "\n",
        "# 데이터 프레임으로 저장\n",
        "test_StandardScaled_data = pd.DataFrame(test_StandardScaled_data)"
      ],
      "metadata": {
        "id": "aEH7pSLIvpoJ"
      },
      "id": "aEH7pSLIvpoJ",
      "execution_count": 40,
      "outputs": []
    },
    {
      "cell_type": "code",
      "source": [
        "#best model : model \"EllipticEnvelope\"\n",
        "test_pred = model.predict(test_StandardScaled_data) # model prediction\n",
        "test_pred = get_pred_label(test_pred)"
      ],
      "metadata": {
        "id": "cinR2nmwTUOH"
      },
      "id": "cinR2nmwTUOH",
      "execution_count": 41,
      "outputs": []
    },
    {
      "cell_type": "markdown",
      "source": [
        "## submission"
      ],
      "metadata": {
        "id": "oHE8Gr6EV-mK"
      },
      "id": "oHE8Gr6EV-mK"
    },
    {
      "cell_type": "code",
      "source": [
        "submit = pd.read_csv('./drive/MyDrive/신용카드 사기 데이콘/open/sample_submission.csv')\n",
        "submit.head()"
      ],
      "metadata": {
        "colab": {
          "base_uri": "https://localhost:8080/",
          "height": 206
        },
        "id": "rE3uJnhaT20s",
        "outputId": "ca2abc42-7eaa-4575-92f0-ce44ab63b20a"
      },
      "id": "rE3uJnhaT20s",
      "execution_count": 42,
      "outputs": [
        {
          "output_type": "execute_result",
          "data": {
            "text/plain": [
              "        ID  Class\n",
              "0  AAAA0x1      1\n",
              "1  AAAA0x2      1\n",
              "2  AAAA0x5      1\n",
              "3  AAAA0x7      1\n",
              "4  AAAA0xc      1"
            ],
            "text/html": [
              "\n",
              "  <div id=\"df-9555b18b-e443-4505-966d-b85f47211935\">\n",
              "    <div class=\"colab-df-container\">\n",
              "      <div>\n",
              "<style scoped>\n",
              "    .dataframe tbody tr th:only-of-type {\n",
              "        vertical-align: middle;\n",
              "    }\n",
              "\n",
              "    .dataframe tbody tr th {\n",
              "        vertical-align: top;\n",
              "    }\n",
              "\n",
              "    .dataframe thead th {\n",
              "        text-align: right;\n",
              "    }\n",
              "</style>\n",
              "<table border=\"1\" class=\"dataframe\">\n",
              "  <thead>\n",
              "    <tr style=\"text-align: right;\">\n",
              "      <th></th>\n",
              "      <th>ID</th>\n",
              "      <th>Class</th>\n",
              "    </tr>\n",
              "  </thead>\n",
              "  <tbody>\n",
              "    <tr>\n",
              "      <th>0</th>\n",
              "      <td>AAAA0x1</td>\n",
              "      <td>1</td>\n",
              "    </tr>\n",
              "    <tr>\n",
              "      <th>1</th>\n",
              "      <td>AAAA0x2</td>\n",
              "      <td>1</td>\n",
              "    </tr>\n",
              "    <tr>\n",
              "      <th>2</th>\n",
              "      <td>AAAA0x5</td>\n",
              "      <td>1</td>\n",
              "    </tr>\n",
              "    <tr>\n",
              "      <th>3</th>\n",
              "      <td>AAAA0x7</td>\n",
              "      <td>1</td>\n",
              "    </tr>\n",
              "    <tr>\n",
              "      <th>4</th>\n",
              "      <td>AAAA0xc</td>\n",
              "      <td>1</td>\n",
              "    </tr>\n",
              "  </tbody>\n",
              "</table>\n",
              "</div>\n",
              "      <button class=\"colab-df-convert\" onclick=\"convertToInteractive('df-9555b18b-e443-4505-966d-b85f47211935')\"\n",
              "              title=\"Convert this dataframe to an interactive table.\"\n",
              "              style=\"display:none;\">\n",
              "        \n",
              "  <svg xmlns=\"http://www.w3.org/2000/svg\" height=\"24px\"viewBox=\"0 0 24 24\"\n",
              "       width=\"24px\">\n",
              "    <path d=\"M0 0h24v24H0V0z\" fill=\"none\"/>\n",
              "    <path d=\"M18.56 5.44l.94 2.06.94-2.06 2.06-.94-2.06-.94-.94-2.06-.94 2.06-2.06.94zm-11 1L8.5 8.5l.94-2.06 2.06-.94-2.06-.94L8.5 2.5l-.94 2.06-2.06.94zm10 10l.94 2.06.94-2.06 2.06-.94-2.06-.94-.94-2.06-.94 2.06-2.06.94z\"/><path d=\"M17.41 7.96l-1.37-1.37c-.4-.4-.92-.59-1.43-.59-.52 0-1.04.2-1.43.59L10.3 9.45l-7.72 7.72c-.78.78-.78 2.05 0 2.83L4 21.41c.39.39.9.59 1.41.59.51 0 1.02-.2 1.41-.59l7.78-7.78 2.81-2.81c.8-.78.8-2.07 0-2.86zM5.41 20L4 18.59l7.72-7.72 1.47 1.35L5.41 20z\"/>\n",
              "  </svg>\n",
              "      </button>\n",
              "      \n",
              "  <style>\n",
              "    .colab-df-container {\n",
              "      display:flex;\n",
              "      flex-wrap:wrap;\n",
              "      gap: 12px;\n",
              "    }\n",
              "\n",
              "    .colab-df-convert {\n",
              "      background-color: #E8F0FE;\n",
              "      border: none;\n",
              "      border-radius: 50%;\n",
              "      cursor: pointer;\n",
              "      display: none;\n",
              "      fill: #1967D2;\n",
              "      height: 32px;\n",
              "      padding: 0 0 0 0;\n",
              "      width: 32px;\n",
              "    }\n",
              "\n",
              "    .colab-df-convert:hover {\n",
              "      background-color: #E2EBFA;\n",
              "      box-shadow: 0px 1px 2px rgba(60, 64, 67, 0.3), 0px 1px 3px 1px rgba(60, 64, 67, 0.15);\n",
              "      fill: #174EA6;\n",
              "    }\n",
              "\n",
              "    [theme=dark] .colab-df-convert {\n",
              "      background-color: #3B4455;\n",
              "      fill: #D2E3FC;\n",
              "    }\n",
              "\n",
              "    [theme=dark] .colab-df-convert:hover {\n",
              "      background-color: #434B5C;\n",
              "      box-shadow: 0px 1px 3px 1px rgba(0, 0, 0, 0.15);\n",
              "      filter: drop-shadow(0px 1px 2px rgba(0, 0, 0, 0.3));\n",
              "      fill: #FFFFFF;\n",
              "    }\n",
              "  </style>\n",
              "\n",
              "      <script>\n",
              "        const buttonEl =\n",
              "          document.querySelector('#df-9555b18b-e443-4505-966d-b85f47211935 button.colab-df-convert');\n",
              "        buttonEl.style.display =\n",
              "          google.colab.kernel.accessAllowed ? 'block' : 'none';\n",
              "\n",
              "        async function convertToInteractive(key) {\n",
              "          const element = document.querySelector('#df-9555b18b-e443-4505-966d-b85f47211935');\n",
              "          const dataTable =\n",
              "            await google.colab.kernel.invokeFunction('convertToInteractive',\n",
              "                                                     [key], {});\n",
              "          if (!dataTable) return;\n",
              "\n",
              "          const docLinkHtml = 'Like what you see? Visit the ' +\n",
              "            '<a target=\"_blank\" href=https://colab.research.google.com/notebooks/data_table.ipynb>data table notebook</a>'\n",
              "            + ' to learn more about interactive tables.';\n",
              "          element.innerHTML = '';\n",
              "          dataTable['output_type'] = 'display_data';\n",
              "          await google.colab.output.renderOutput(dataTable, element);\n",
              "          const docLink = document.createElement('div');\n",
              "          docLink.innerHTML = docLinkHtml;\n",
              "          element.appendChild(docLink);\n",
              "        }\n",
              "      </script>\n",
              "    </div>\n",
              "  </div>\n",
              "  "
            ]
          },
          "metadata": {},
          "execution_count": 42
        }
      ]
    },
    {
      "cell_type": "code",
      "source": [
        "submit['Class'] = test_pred\n",
        "submit.to_csv('./drive/MyDrive/신용카드 사기 데이콘/open/elliptic_standardscaling_submit3.csv', index=False)"
      ],
      "metadata": {
        "id": "B5WvalaYT52W"
      },
      "id": "B5WvalaYT52W",
      "execution_count": 43,
      "outputs": []
    }
  ],
  "metadata": {
    "accelerator": "GPU",
    "colab": {
      "machine_shape": "hm",
      "provenance": []
    },
    "gpuClass": "standard",
    "kernelspec": {
      "display_name": "Python 3 (ipykernel)",
      "language": "python",
      "name": "python3"
    },
    "language_info": {
      "codemirror_mode": {
        "name": "ipython",
        "version": 3
      },
      "file_extension": ".py",
      "mimetype": "text/x-python",
      "name": "python",
      "nbconvert_exporter": "python",
      "pygments_lexer": "ipython3",
      "version": "3.9.7"
    },
    "varInspector": {
      "cols": {
        "lenName": 16,
        "lenType": 16,
        "lenVar": 40
      },
      "kernels_config": {
        "python": {
          "delete_cmd_postfix": "",
          "delete_cmd_prefix": "del ",
          "library": "var_list.py",
          "varRefreshCmd": "print(var_dic_list())"
        },
        "r": {
          "delete_cmd_postfix": ") ",
          "delete_cmd_prefix": "rm(",
          "library": "var_list.r",
          "varRefreshCmd": "cat(var_dic_list()) "
        }
      },
      "types_to_exclude": [
        "module",
        "function",
        "builtin_function_or_method",
        "instance",
        "_Feature"
      ],
      "window_display": false
    }
  },
  "nbformat": 4,
  "nbformat_minor": 5
}